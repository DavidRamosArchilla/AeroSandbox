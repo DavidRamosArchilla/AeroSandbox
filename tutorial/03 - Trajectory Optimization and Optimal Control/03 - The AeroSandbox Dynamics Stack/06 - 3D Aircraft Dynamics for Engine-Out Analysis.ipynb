{
 "cells": [
  {
   "cell_type": "markdown",
   "metadata": {
    "collapsed": true,
    "pycharm": {
     "name": "#%% md\n"
    }
   },
   "source": [
    "# The Impossible Turn\n",
    "\n",
    "In general aviation, there's something known as *the impossible turn.\n",
    "\n",
    "![turn](./assets/turnback.jpg)\n",
    "\n",
    "([Image source](https://generalaviationnews.com/2019/05/29/the-impossible-turn-is-now-possible/))\n"
   ]
  }
 ],
 "metadata": {
  "kernelspec": {
   "display_name": "Python 3",
   "language": "python",
   "name": "python3"
  },
  "language_info": {
   "codemirror_mode": {
    "name": "ipython",
    "version": 2
   },
   "file_extension": ".py",
   "mimetype": "text/x-python",
   "name": "python",
   "nbconvert_exporter": "python",
   "pygments_lexer": "ipython2",
   "version": "2.7.6"
  }
 },
 "nbformat": 4,
 "nbformat_minor": 0
}