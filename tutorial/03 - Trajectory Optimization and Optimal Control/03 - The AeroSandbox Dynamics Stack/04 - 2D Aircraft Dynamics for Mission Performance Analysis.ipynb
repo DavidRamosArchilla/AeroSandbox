{
 "cells": [
  {
   "cell_type": "markdown",
   "metadata": {
    "collapsed": true,
    "pycharm": {
     "name": "#%% md\n"
    }
   },
   "source": [
    "## Dynamics for Aircraft Mission Performance\n",
    "\n",
    "So, what we've demonstrated so far is great for problems where we care about the nitty-gritty of what's happening - we are directly simulating all flight dynamics modes.\n",
    "\n",
    "For the quadcopter doing a flip, this is a good thing! The vehicle's dynamics have characteristic times that are on the same timescale as the maneuvers of interest, so we should just go ahead and simulate everything.\n",
    "\n",
    "However, this is overly complex for most aircraft design problems. Most missions of interest are on the order of hours long, while most aircraft flight dynamics modes are on the order of seconds.\n",
    "\n",
    "We can therefore make some simplifying assumptions:\n",
    "\n",
    "* The vehicle's short-period modes are negligible, and all modes that don't affect the vehicle energy management (i.e., performance) can be discarded. (On an airplane with classical flight dynamics modes, this would mean that we would ignore all modes other than the phugoid mode.)\n",
    "* This implies that the angular rates $p$, $q$, and $r$ are zero.\n",
    "* All lateral modes can be ignored, as we assume that $\\beta, \\phi, p, r=0$.\n",
    "* Because the short-period longitudinal mode is negligible and $q=0$, we assume $\\theta$ can be prescribed - so $\\theta$ is now a control variable, not a state variable.\n",
    "* Our remaining state variables are $x_e, z_e, u, w$. We can re-parameterize this as $x_e, z_e, V, \\gamma$ (where $V$ is the airspeed and $\\gamma$ is the flight path angle) to reduce coupling.\n",
    "\n",
    "Here, we can show what that looks like in practice."
   ]
  },
  {
   "cell_type": "markdown",
   "source": [
    "## Optimal Gliding\n",
    "\n",
    "Let's say you're my Ph.D. advisor, John Hansman, and you're flying over central Massachusetts in your Cessna 152. All of a sudden, you hear your engine start to sputter - oh no."
   ],
   "metadata": {
    "collapsed": false
   }
  },
  {
   "cell_type": "code",
   "execution_count": null,
   "outputs": [],
   "source": [
    "thrust = 0"
   ],
   "metadata": {
    "collapsed": false,
    "pycharm": {
     "name": "#%%\n"
    }
   }
  },
  {
   "cell_type": "markdown",
   "source": [
    "Let's determine:\n",
    "\n",
    "1. Can he make it back to the airport?\n",
    "2. What's the most energy-optimal trajectory to fly?"
   ],
   "metadata": {
    "collapsed": false,
    "pycharm": {
     "name": "#%% md\n"
    }
   }
  }
 ],
 "metadata": {
  "kernelspec": {
   "display_name": "Python 3",
   "language": "python",
   "name": "python3"
  },
  "language_info": {
   "codemirror_mode": {
    "name": "ipython",
    "version": 2
   },
   "file_extension": ".py",
   "mimetype": "text/x-python",
   "name": "python",
   "nbconvert_exporter": "python",
   "pygments_lexer": "ipython2",
   "version": "2.7.6"
  }
 },
 "nbformat": 4,
 "nbformat_minor": 0
}