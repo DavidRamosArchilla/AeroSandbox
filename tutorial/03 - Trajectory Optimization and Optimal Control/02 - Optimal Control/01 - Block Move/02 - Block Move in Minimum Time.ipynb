{
 "cells": [
  {
   "cell_type": "markdown",
   "metadata": {
    "collapsed": true,
    "pycharm": {
     "name": "#%% md\n"
    }
   },
   "source": [
    "# Block Move in Minimum Time\n",
    "\n",
    "Now let's try solving Block Move with something a little different.\n",
    "\n",
    "Suppose now we want to complete our block move in the minimum time possible.\n",
    "\n",
    "Of course,\n"
   ]
  },
  {
   "cell_type": "code",
   "execution_count": null,
   "outputs": [],
   "source": [
    "import aerosandbox as asb\n",
    "import aerosandbox.numpy as np\n",
    "\n",
    "n_timesteps = 2000 # This is *way* more than we need, but illustrating here to showcase scalability\n",
    "mass_block = 1\n",
    "\n",
    "opti = asb.Opti()\n",
    "\n",
    "time_end = opti.variable(init_guess=1, lower_bound=0)\n",
    "\n",
    "time = np.cosspace(0, time_end, n_timesteps)\n",
    "\n",
    "position = opti.variable(\n",
    "    init_guess=np.linspace(0, 1, n_timesteps)\n",
    ")\n",
    "\n",
    "velocity = opti.derivative_of(\n",
    "    position,\n",
    "    with_respect_to=time,\n",
    "    derivative_init_guess=1,\n",
    ")\n",
    "\n",
    "force = opti.variable(\n",
    "    init_guess=np.linspace(1, -1, n_timesteps),\n",
    "    n_vars=n_timesteps,\n",
    "    lower_bound=-1,\n",
    "    upper_bound=1\n",
    ")\n",
    "\n",
    "opti.constrain_derivative(\n",
    "    variable=velocity,\n",
    "    with_respect_to=time,\n",
    "    derivative=force / mass_block,\n",
    ")\n",
    "\n",
    "opti.minimize(time_end)\n",
    "\n",
    "### Boundary conditions\n",
    "opti.subject_to([\n",
    "    position[0] == 0,\n",
    "    position[-1] == 1,\n",
    "    velocity[0] == 0,\n",
    "    velocity[-1] == 0,\n",
    "])\n",
    "\n",
    "sol = opti.solve()\n",
    "\n",
    "import matplotlib.pyplot as plt\n",
    "import seaborn as sns\n",
    "\n",
    "fig, ax = plt.subplots(1, 1, figsize=(6.4, 4.8), dpi=200)\n",
    "plt.plot(sol.value(time), sol.value(position))\n",
    "plt.xlabel(r\"Time\")\n",
    "plt.ylabel(r\"Position\")\n",
    "plt.title(r\"Position\")\n",
    "plt.tight_layout()\n",
    "plt.show()\n",
    "\n",
    "fig, ax = plt.subplots(1, 1, figsize=(6.4, 4.8), dpi=200)\n",
    "plt.plot(sol.value(time), sol.value(velocity))\n",
    "plt.xlabel(r\"Time\")\n",
    "plt.ylabel(r\"Velocity\")\n",
    "plt.title(r\"Velocity\")\n",
    "plt.tight_layout()\n",
    "plt.show()\n",
    "\n",
    "fig, ax = plt.subplots(1, 1, figsize=(6.4, 4.8), dpi=200)\n",
    "plt.plot(sol.value(time), sol.value(force))\n",
    "plt.xlabel(r\"Time\")\n",
    "plt.ylabel(r\"Force\")\n",
    "plt.title(r\"Force\")\n",
    "plt.tight_layout()\n",
    "plt.show()"
   ],
   "metadata": {
    "collapsed": false,
    "pycharm": {
     "name": "#%%\n"
    }
   }
  }
 ],
 "metadata": {
  "kernelspec": {
   "display_name": "Python 3",
   "language": "python",
   "name": "python3"
  },
  "language_info": {
   "codemirror_mode": {
    "name": "ipython",
    "version": 2
   },
   "file_extension": ".py",
   "mimetype": "text/x-python",
   "name": "python",
   "nbconvert_exporter": "python",
   "pygments_lexer": "ipython2",
   "version": "2.7.6"
  }
 },
 "nbformat": 4,
 "nbformat_minor": 0
}