{
 "cells": [
  {
   "cell_type": "markdown",
   "source": [
    "# Wing Drag Minimization, with practical considerations\n",
    "\n",
    "In our last example, we had a cautionary tale about using bad models and assumptions, and how you can easily find\n",
    "yourself with nonsensical solutions if you throw together models without thinking about how they can be exploited.\n",
    "\n",
    "Let's try doing another wing drag minimization problem, except this time let's model some important coupled effects,\n",
    "such as:\n",
    "\n",
    "* the mass of the wing, as well as how that scales with wing size and shape\n",
    "\n",
    "* fuselage drag\n",
    "\n",
    "* takeoff lift constraints\n",
    "\n",
    "General problem structure is taken from Section 3 of \"Geometric Programming for Aircraft Design Optimization\" by W. Hoburg and P.\n",
    "Abbeel. http://web.mit.edu/~whoburg/www/papers/hoburgabbeel2014.pdf\n",
    "\n",
    "Several constants are tweaked in order to match the GPKit implementation available at: https://gpkit.readthedocs.io/en/latest/examples.html#simple-wing"
   ],
   "metadata": {
    "collapsed": false
   }
  },
  {
   "cell_type": "code",
   "execution_count": 103,
   "outputs": [
    {
     "name": "stdout",
     "output_type": "stream",
     "text": [
      "This is Ipopt version 3.12.3, running with linear solver mumps.\n",
      "NOTE: Other linear solvers might be more efficient (see Ipopt documentation).\n",
      "\n",
      "Number of nonzeros in equality constraint Jacobian...:        3\n",
      "Number of nonzeros in inequality constraint Jacobian.:        6\n",
      "Number of nonzeros in Lagrangian Hessian.............:       13\n",
      "\n",
      "Total number of variables............................:        5\n",
      "                     variables with only lower bounds:        0\n",
      "                variables with lower and upper bounds:        0\n",
      "                     variables with only upper bounds:        0\n",
      "Total number of equality constraints.................:        1\n",
      "Total number of inequality constraints...............:        2\n",
      "        inequality constraints with only lower bounds:        0\n",
      "   inequality constraints with lower and upper bounds:        0\n",
      "        inequality constraints with only upper bounds:        2\n",
      "\n",
      "iter    objective    inf_pr   inf_du lg(mu)  ||d||  lg(rg) alpha_du alpha_pr  ls\n",
      "   0 2.7311812e+003 5.54e+003 2.47e+001   0.0 0.00e+000    -  0.00e+000 0.00e+000   0\n",
      "   1 1.0164571e+004 2.51e+005 4.47e+002   1.6 6.53e+001    -  5.84e-001 5.00e-001f  2\n",
      "   2 1.6042565e+003 2.19e+004 3.39e+003   0.0 6.16e-001   4.0 1.00e+000 1.00e+000f  1\n",
      "Warning: SOC step rejected due to evaluation error\n",
      "   3 5.5452390e+003 6.19e+001 1.07e+003  -1.9 1.26e+000   3.5 1.00e+000 5.00e-001h  2\n",
      "   4 4.5726523e+003 1.95e-001 6.03e+001  -3.8 9.17e-002   3.0 1.00e+000 1.00e+000f  1\n",
      "   5 4.3824598e+003 1.95e+000 3.37e+001  -5.6 9.37e-002   2.6 1.00e+000 1.00e+000f  1\n",
      "   6 3.9046605e+003 1.78e+001 2.46e+001  -7.5 2.01e-001   2.1 1.00e+000 1.00e+000f  1\n",
      "   7 3.2377521e+003 9.82e+001 1.24e+001  -9.4 2.99e-001   1.6 1.00e+000 1.00e+000f  1\n",
      "   8 2.9148191e+003 2.42e+002 4.38e+000 -11.0 3.64e-001   1.1 1.00e+000 1.00e+000f  1\n",
      "   9 2.8396309e+003 2.69e+002 2.33e+000 -11.0 5.23e-001   0.7 1.00e+000 1.00e+000h  1\n",
      "iter    objective    inf_pr   inf_du lg(mu)  ||d||  lg(rg) alpha_du alpha_pr  ls\n",
      "  10 2.7808251e+003 2.12e+002 9.53e-001 -11.0 6.03e-001   0.2 1.00e+000 1.00e+000h  1\n",
      "  11 2.7530455e+003 1.23e+002 5.69e-001 -11.0 1.12e+000  -0.3 1.00e+000 1.00e+000h  1\n",
      "  12 2.6822791e+003 2.26e+001 5.64e-001 -11.0 3.33e+000  -0.8 1.00e+000 1.00e+000h  1\n",
      "  13 2.3967427e+003 7.64e+000 5.71e-001 -11.0 1.01e+001  -1.2 1.00e+000 1.00e+000f  1\n",
      "  14 1.5145532e+003 2.62e+002 6.08e-001 -11.0 3.23e+001  -1.7 1.00e+000 1.00e+000f  1\n",
      "  15 7.6624646e+002 7.03e+002 1.39e+000  -9.1 1.57e+002  -2.2 1.00e+000 1.71e-001f  1\n",
      "  16 7.5485938e+002 7.01e+002 1.38e+000  -7.4 7.64e+001  -1.8 1.00e+000 3.51e-003f  1\n",
      "  17 7.5470712e+002 7.01e+002 1.38e+000  -5.7 2.05e+001  -1.4 1.00e+000 1.31e-004h  1\n",
      "  18 4.2617650e+002 3.49e+002 1.43e+000  -4.7 9.64e-001  -1.8 1.00e+000 1.00e+000f  1\n",
      "  19 3.2848934e+002 6.14e+001 6.15e-001  -4.6 2.87e+000  -2.3 1.00e+000 1.00e+000h  1\n",
      "iter    objective    inf_pr   inf_du lg(mu)  ||d||  lg(rg) alpha_du alpha_pr  ls\n",
      "  20 3.0534050e+002 3.29e+001 9.81e-002  -6.8 8.76e+000  -2.8 1.00e+000 1.00e+000h  1\n",
      "  21 3.0125313e+002 5.26e+001 3.58e-001  -3.6 8.06e+002    -  1.00e+000 5.58e-003f  1\n",
      "  22 3.0218923e+002 2.52e+001 5.56e-002  -3.2 8.88e-002    -  1.00e+000 5.07e-001h  1\n",
      "  23 3.0307666e+002 2.44e-003 1.21e-004  -5.3 1.23e-003    -  1.00e+000 1.00e+000h  1\n",
      "  24 3.0307477e+002 2.64e-007 1.46e-008 -11.0 3.93e-004    -  1.00e+000 1.00e+000h  1\n",
      "  25 3.0307477e+002 0.00e+000 1.07e-014 -11.0 5.08e-008    -  1.00e+000 1.00e+000h  1\n",
      "\n",
      "Number of Iterations....: 25\n",
      "\n",
      "                                   (scaled)                 (unscaled)\n",
      "Objective...............:  5.6476537149537931e+000   3.0307477258650493e+002\n",
      "Dual infeasibility......:  1.0658141036401503e-014   5.7195675121676790e-013\n",
      "Constraint violation....:  0.0000000000000000e+000   0.0000000000000000e+000\n",
      "Complementarity.........:  1.0000000018060257e-011   5.3663837839665673e-010\n",
      "Overall NLP error.......:  1.0000000018060257e-011   5.3663837839665673e-010\n",
      "\n",
      "\n",
      "Number of objective function evaluations             = 29\n",
      "Number of objective gradient evaluations             = 26\n",
      "Number of equality constraint evaluations            = 30\n",
      "Number of inequality constraint evaluations          = 30\n",
      "Number of equality constraint Jacobian evaluations   = 26\n",
      "Number of inequality constraint Jacobian evaluations = 26\n",
      "Number of Lagrangian Hessian evaluations             = 25\n",
      "Total CPU secs in IPOPT (w/o function evaluations)   =      0.013\n",
      "Total CPU secs in NLP function evaluations           =      0.001\n",
      "\n",
      "EXIT: Optimal Solution Found.\n",
      "      solver  :   t_proc      (avg)   t_wall      (avg)    n_eval\n",
      "       nlp_f  |        0 (       0)        0 (       0)        29\n",
      "       nlp_g  |        0 (       0)        0 (       0)        30\n",
      "  nlp_grad_f  |        0 (       0)        0 (       0)        27\n",
      "  nlp_hess_l  |   1.00ms ( 40.00us)   1.00ms ( 40.00us)        25\n",
      "   nlp_jac_g  |        0 (       0)        0 (       0)        27\n",
      "       total  |  15.00ms ( 15.00ms)  14.37ms ( 14.37ms)         1\n"
     ]
    },
    {
     "name": "stderr",
     "output_type": "stream",
     "text": [
      "CasADi -  WARNING(\"solver:nlp_f failed: NaN detected for output f, at (row 0, col 0).\") [.../casadi/core/oracle_function.cpp:265]\n"
     ]
    }
   ],
   "source": [
    "import aerosandbox as asb\n",
    "import aerosandbox.numpy as np\n",
    "\n",
    "### Constants\n",
    "form_factor = 1.2  # form factor [-]\n",
    "oswalds_efficiency = 0.95  # Oswald efficiency factor [-]\n",
    "viscosity = 1.78e-5  # viscosity of air [kg/m/s]\n",
    "density = 1.23  # density of air [kg/m^3]\n",
    "airfoil_thickness_fraction = 0.12  # airfoil thickness to chord ratio [-]\n",
    "ultimate_load_factor = 3.8  # ultimate load factor [-]\n",
    "airspeed_takeoff = 22  # takeoff speed [m/s]\n",
    "CL_max = 1.5  # max CL with flaps down [-]\n",
    "wetted_area_ratio = 2.05  # wetted area ratio [-]\n",
    "W_W_coeff1 = 8.71e-5  # Wing Weight Coefficient 1 [1/m]\n",
    "W_W_coeff2 = 45.24  # Wing Weight Coefficient 2 [Pa]\n",
    "drag_area_fuselage = 0.031  # fuselage drag area [m^2]\n",
    "weight_fuselage = 4940.0  # aircraft weight excluding wing [N]\n",
    "\n",
    "opti = asb.Opti()  # initialize an optimization environment\n",
    "\n",
    "### Variables\n",
    "aspect_ratio = opti.variable(init_guess=10)  # aspect ratio\n",
    "wing_area = opti.variable(init_guess=10)  # total wing area [m^2]\n",
    "airspeed = opti.variable(init_guess=100)  # cruising speed [m/s]\n",
    "weight = opti.variable(init_guess=10000)  # total aircraft weight [N]\n",
    "CL = opti.variable(init_guess=1)  # Lift coefficient of wing [-]\n",
    "\n",
    "### Models\n",
    "# Aerodynamics model\n",
    "CD_fuselage = drag_area_fuselage / wing_area\n",
    "Re = (density / viscosity) * airspeed * (wing_area / aspect_ratio) ** 0.5\n",
    "Cf = 0.074 / Re ** 0.2\n",
    "CD_profile = form_factor * Cf * wetted_area_ratio\n",
    "CD_induced = CL ** 2 / (np.pi * aspect_ratio * oswalds_efficiency)\n",
    "CD = CD_fuselage + CD_profile + CD_induced\n",
    "dynamic_pressure = 0.5 * density * airspeed ** 2\n",
    "drag = dynamic_pressure * wing_area * CD\n",
    "lift_cruise = dynamic_pressure * wing_area * CL\n",
    "lift_takeoff = 0.5 * density * wing_area * CL_max * airspeed_takeoff ** 2\n",
    "\n",
    "# Wing weight model\n",
    "weight_wing_structural = W_W_coeff1 * (\n",
    "        ultimate_load_factor * aspect_ratio ** 1.5 *\n",
    "        (weight_fuselage * weight * wing_area) ** 0.5\n",
    ") / airfoil_thickness_fraction\n",
    "weight_wing_surface = W_W_coeff2 * wing_area\n",
    "weight_wing = weight_wing_surface + weight_wing_structural\n",
    "\n",
    "### Constraints\n",
    "opti.subject_to([\n",
    "    weight <= lift_cruise,\n",
    "    weight <= lift_takeoff,\n",
    "    weight == weight_fuselage + weight_wing\n",
    "])\n",
    "\n",
    "# Objective\n",
    "opti.minimize(drag)\n",
    "\n",
    "sol = opti.solve(max_iter=100)"
   ],
   "metadata": {
    "collapsed": false,
    "pycharm": {
     "name": "#%%\n"
    }
   }
  },
  {
   "cell_type": "markdown",
   "source": [
    "Now, we get a much more reasonable solution:"
   ],
   "metadata": {
    "collapsed": false
   }
  },
  {
   "cell_type": "code",
   "execution_count": 104,
   "outputs": [
    {
     "name": "stdout",
     "output_type": "stream",
     "text": [
      "Minimum drag = 303.07477258650493 N\n",
      "Aspect ratio = 8.459983146202207\n",
      "Wing area = 16.44179489082042 m^2\n",
      "Airspeed = 38.15135783274742 m/s\n",
      "Weight = 7341.097000741735 N\n",
      "C_L = 0.4987887182226509\n"
     ]
    }
   ],
   "source": [
    "print(f\"Minimum drag = {sol.value(drag)} N\")\n",
    "print(f\"Aspect ratio = {sol.value(aspect_ratio)}\")\n",
    "print(f\"Wing area = {sol.value(wing_area)} m^2\")\n",
    "print(f\"Airspeed = {sol.value(airspeed)} m/s\")\n",
    "print(f\"Weight = {sol.value(weight)} N\")\n",
    "print(f\"C_L = {sol.value(CL)}\")"
   ],
   "metadata": {
    "collapsed": false,
    "pycharm": {
     "name": "#%%\n"
    }
   }
  },
  {
   "cell_type": "markdown",
   "source": [
    "We also see that we get a more reasonable L/D (albeit still high, as we are still neglecting many considerations, and the Schlichting turbulent flat plate model underestimates viscous losses here):"
   ],
   "metadata": {
    "collapsed": false
   }
  },
  {
   "cell_type": "code",
   "execution_count": 105,
   "outputs": [
    {
     "name": "stdout",
     "output_type": "stream",
     "text": [
      "L/D = 24.222065525595628\n"
     ]
    }
   ],
   "source": [
    "print(f\"L/D = {sol.value(lift_cruise/drag)}\")"
   ],
   "metadata": {
    "collapsed": false,
    "pycharm": {
     "name": "#%%\n"
    }
   }
  },
  {
   "cell_type": "markdown",
   "source": [
    "This illustrates just how important accurate modeling is when doing engineering design optimization - just like when\n",
    "coding, an optimizer solves the problem that you actually give it, which is not necessarily the problem that you may\n",
    "mean to solve."
   ],
   "metadata": {
    "collapsed": false
   }
  }
 ],
 "metadata": {
  "kernelspec": {
   "display_name": "Python 3",
   "language": "python",
   "name": "python3"
  },
  "language_info": {
   "codemirror_mode": {
    "name": "ipython",
    "version": 2
   },
   "file_extension": ".py",
   "mimetype": "text/x-python",
   "name": "python",
   "nbconvert_exporter": "python",
   "pygments_lexer": "ipython2",
   "version": "2.7.6"
  }
 },
 "nbformat": 4,
 "nbformat_minor": 0
}