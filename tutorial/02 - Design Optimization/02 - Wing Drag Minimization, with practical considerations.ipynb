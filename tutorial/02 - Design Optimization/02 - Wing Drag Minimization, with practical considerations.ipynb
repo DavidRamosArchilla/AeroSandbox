{
 "cells": [
  {
   "cell_type": "markdown",
   "source": [
    "# Wing Drag Minimization, with practical considerations\n",
    "\n",
    "In our last example, we had a cautionary tale about using bad models and assumptions, and how you can easily find\n",
    "yourself with nonsensical solutions if you throw together models without thinking about how they can be exploited.\n",
    "\n",
    "Let's try doing another wing drag minimization problem, except this time let's model some important coupled effects,\n",
    "such as:\n",
    "\n",
    "* the mass of the wing, as well as how that scales with wing size and shape\n",
    "\n",
    "* fuselage drag\n",
    "\n",
    "* takeoff lift constraints\n",
    "\n",
    "Problem is taken from Section 3 of \"Geometric Programming for Aircraft Design Optimization\" by W. Hoburg and P.\n",
    "Abbeel. http://web.mit.edu/~whoburg/www/papers/hoburgabbeel2014.pdf\n",
    "\n",
    "GPKit implementation (with different coefficients) available at: https://gpkit.readthedocs.io/en/latest/examples.html#simple-wing"
   ],
   "metadata": {
    "collapsed": false
   }
  },
  {
   "cell_type": "code",
   "execution_count": 100,
   "outputs": [
    {
     "name": "stdout",
     "output_type": "stream",
     "text": [
      "This is Ipopt version 3.12.3, running with linear solver mumps.\n",
      "NOTE: Other linear solvers might be more efficient (see Ipopt documentation).\n",
      "\n",
      "Number of nonzeros in equality constraint Jacobian...:        3\n",
      "Number of nonzeros in inequality constraint Jacobian.:        6\n",
      "Number of nonzeros in Lagrangian Hessian.............:       13\n",
      "\n",
      "Total number of variables............................:        5\n",
      "                     variables with only lower bounds:        0\n",
      "                variables with lower and upper bounds:        0\n",
      "                     variables with only upper bounds:        0\n",
      "Total number of equality constraints.................:        1\n",
      "Total number of inequality constraints...............:        2\n",
      "        inequality constraints with only lower bounds:        0\n",
      "   inequality constraints with lower and upper bounds:        0\n",
      "        inequality constraints with only upper bounds:        2\n",
      "\n",
      "iter    objective    inf_pr   inf_du lg(mu)  ||d||  lg(rg) alpha_du alpha_pr  ls\n",
      "   0 2.7072563e+003 4.05e+003 3.05e+001   0.0 0.00e+000    -  0.00e+000 0.00e+000   0\n",
      "   1 3.7155814e+003 1.07e+005 2.13e+002   1.7 6.51e+001    -  7.06e-001 5.00e-001f  2\n",
      "   2 1.8521823e+004 3.87e+002 7.62e+002   0.0 9.42e-001   2.0 1.00e+000 1.00e+000h  1\n",
      "   3 6.7766499e+003 2.01e+002 1.65e+002   0.0 1.17e+000   2.4 1.00e+000 5.00e-001f  2\n",
      "   4 5.4643861e+003 4.13e+001 4.73e+001  -1.8 4.78e-001   1.9 1.00e+000 1.00e+000f  1\n",
      "   5 2.8817701e+003 1.15e+002 2.82e+001  -3.7 9.21e-001   1.5 1.00e+000 1.00e+000f  1\n",
      "   6 1.7977103e+003 6.75e+002 5.80e+000  -5.6 7.86e-001   1.0 1.00e+000 1.00e+000f  1\n",
      "   7 2.3732116e+003 1.48e+003 3.22e+000  -7.5 8.20e-001   0.5 1.00e+000 1.00e+000h  1\n",
      "   8 2.3396229e+003 6.75e+001 5.98e-001  -9.5 6.23e-001   0.0 1.00e+000 1.00e+000h  1\n",
      "   9 2.3526323e+003 7.50e+001 4.83e-001 -11.0 1.32e+000  -0.4 1.00e+000 1.00e+000h  1\n",
      "iter    objective    inf_pr   inf_du lg(mu)  ||d||  lg(rg) alpha_du alpha_pr  ls\n",
      "  10 2.2639536e+003 2.08e+000 4.83e-001 -11.0 3.96e+000  -0.9 1.00e+000 1.00e+000f  1\n",
      "  11 1.9661986e+003 2.60e+001 4.92e-001 -11.0 1.21e+001  -1.4 1.00e+000 1.00e+000f  1\n",
      "  12 1.0778997e+003 4.65e+002 8.09e-001 -11.0 3.94e+001  -1.9 1.00e+000 1.00e+000f  1\n",
      "  13 6.5040043e+002 7.28e+002 1.23e+000  -9.1 2.99e+002  -2.3 1.00e+000 5.60e-002f  1\n",
      "  14 6.4452284e+002 7.27e+002 1.23e+000  -7.4 1.09e+002  -1.9 1.00e+000 1.53e-003f  1\n",
      "  15 6.4444685e+002 7.27e+002 1.23e+000  -5.7 2.56e+001  -1.5 1.00e+000 6.54e-005h  1\n",
      "  16 3.6203064e+002 3.69e+002 1.27e+000  -4.9 8.69e-001  -2.0 1.00e+000 1.00e+000f  1\n",
      "  17 2.7780120e+002 6.59e+001 5.63e-001  -5.5 2.56e+000  -2.4 1.00e+000 1.00e+000h  1\n",
      "  18 2.5998006e+002 1.42e+001 7.51e-002  -7.7 7.79e+000  -2.9 1.00e+000 1.00e+000h  1\n",
      "  19 2.5149539e+002 1.21e+002 1.49e-001  -4.3 4.13e+002    -  1.00e+000 2.76e-002f  1\n",
      "iter    objective    inf_pr   inf_du lg(mu)  ||d||  lg(rg) alpha_du alpha_pr  ls\n",
      "  20 2.5144766e+002 1.21e+002 1.49e-001  -4.0 7.38e+001    -  1.00e+000 1.55e-003h  1\n",
      "  21 2.5499402e+002 5.26e-002 1.31e-003  -5.5 9.23e-003    -  1.00e+000 1.00e+000h  1\n",
      "  22 2.5496894e+002 7.08e-008 7.47e-008  -7.8 2.05e-005    -  1.00e+000 1.00e+000h  1\n",
      "  23 2.5496894e+002 0.00e+000 1.78e-015 -11.0 1.73e-006    -  1.00e+000 1.00e+000h  1\n",
      "\n",
      "Number of Iterations....: 23\n",
      "\n",
      "                                   (scaled)                 (unscaled)\n",
      "Objective...............:  4.7939704020061349e+000   2.5496893727227939e+002\n",
      "Dual infeasibility......:  1.7763568394002505e-015   9.4476139312144068e-014\n",
      "Constraint violation....:  0.0000000000000000e+000   0.0000000000000000e+000\n",
      "Complementarity.........:  1.0000452527774420e-011   5.3187745009470767e-010\n",
      "Overall NLP error.......:  1.0000452527774420e-011   5.3187745009470767e-010\n",
      "\n",
      "\n",
      "Number of objective function evaluations             = 27\n",
      "Number of objective gradient evaluations             = 24\n",
      "Number of equality constraint evaluations            = 28\n",
      "Number of inequality constraint evaluations          = 28\n",
      "Number of equality constraint Jacobian evaluations   = 24\n",
      "Number of inequality constraint Jacobian evaluations = 24\n",
      "Number of Lagrangian Hessian evaluations             = 23\n",
      "Total CPU secs in IPOPT (w/o function evaluations)   =      0.013\n",
      "Total CPU secs in NLP function evaluations           =      0.000\n",
      "\n",
      "EXIT: Optimal Solution Found.\n",
      "      solver  :   t_proc      (avg)   t_wall      (avg)    n_eval\n",
      "       nlp_f  |        0 (       0)        0 (       0)        27\n",
      "       nlp_g  |        0 (       0)        0 (       0)        28\n",
      "  nlp_grad_f  |        0 (       0)        0 (       0)        25\n",
      "  nlp_hess_l  |        0 (       0)        0 (       0)        23\n",
      "   nlp_jac_g  |        0 (       0)        0 (       0)        25\n",
      "       total  |  14.00ms ( 14.00ms)  13.96ms ( 13.96ms)         1\n"
     ]
    }
   ],
   "source": [
    "import aerosandbox as asb\n",
    "import aerosandbox.numpy as np\n",
    "\n",
    "### Constants\n",
    "form_factor = 1.2  # form factor [-]\n",
    "oswalds_efficiency = 0.96  # Oswald efficiency factor [-]\n",
    "viscosity = 1.78e-5  # viscosity of air [kg/m/s]\n",
    "density = 1.23  # density of air [kg/m^3]\n",
    "airfoil_thickness_fraction = 0.12  # airfoil thickness to chord ratio [-]\n",
    "ultimate_load_factor = 2.5  # ultimate load factor [-]\n",
    "airspeed_takeoff = 22  # takeoff speed [m/s]\n",
    "CL_max = 2.0  # max CL with flaps down [-]\n",
    "wetted_area_ratio = 2.05  # wetted area ratio [-]\n",
    "W_W_coeff1 = 8.71e-5  # Wing Weight Coefficient 1 [1/m]\n",
    "W_W_coeff2 = 45.42  # Wing Weight Coefficient 2 [Pa]\n",
    "drag_area_fuselage = 0.0306  # fuselage drag area [m^2]\n",
    "weight_fuselage = 4940.0  # aircraft weight excluding wing [N]\n",
    "\n",
    "opti = asb.Opti()  # initialize an optimization environment\n",
    "\n",
    "### Variables\n",
    "aspect_ratio = opti.variable(init_guess=10)  # aspect ratio\n",
    "wing_area = opti.variable(init_guess=10)  # total wing area [m^2]\n",
    "airspeed = opti.variable(init_guess=100)  # cruising speed [m/s]\n",
    "weight = opti.variable(init_guess=10000)  # total aircraft weight [N]\n",
    "CL = opti.variable(init_guess=1)  # Lift coefficient of wing [-]\n",
    "\n",
    "### Models\n",
    "# Aerodynamics model\n",
    "CD_fuselage = drag_area_fuselage / wing_area\n",
    "Re = (density / viscosity) * airspeed * (wing_area / aspect_ratio) ** 0.5\n",
    "Cf = 0.074 / Re ** 0.2\n",
    "CD_profile = form_factor * Cf * wetted_area_ratio\n",
    "CD_induced = CL ** 2 / (np.pi * aspect_ratio * oswalds_efficiency)\n",
    "CD = CD_fuselage + CD_profile + CD_induced\n",
    "dynamic_pressure = 0.5 * density * airspeed ** 2\n",
    "drag = dynamic_pressure * wing_area * CD\n",
    "lift_cruise = dynamic_pressure * wing_area * CL\n",
    "lift_takeoff = 0.5 * density * wing_area * CL_max * airspeed_takeoff ** 2\n",
    "\n",
    "# Wing weight model\n",
    "weight_wing_structural = W_W_coeff1 * (\n",
    "        ultimate_load_factor * aspect_ratio ** 1.5 *\n",
    "        (weight_fuselage * weight * wing_area) ** 0.5\n",
    ") / airfoil_thickness_fraction\n",
    "weight_wing_surface = W_W_coeff2 * wing_area\n",
    "weight_wing = weight_wing_surface + weight_wing_structural\n",
    "\n",
    "### Constraints\n",
    "opti.subject_to([\n",
    "    weight <= lift_cruise,\n",
    "    weight <= lift_takeoff,\n",
    "    weight == weight_fuselage + weight_wing\n",
    "])\n",
    "\n",
    "# Objective\n",
    "opti.minimize(drag)\n",
    "\n",
    "sol = opti.solve(max_iter=100)"
   ],
   "metadata": {
    "collapsed": false,
    "pycharm": {
     "name": "#%%\n"
    }
   }
  },
  {
   "cell_type": "markdown",
   "source": [
    "Now, we get a much more reasonable solution:"
   ],
   "metadata": {
    "collapsed": false
   }
  },
  {
   "cell_type": "code",
   "execution_count": 101,
   "outputs": [
    {
     "name": "stdout",
     "output_type": "stream",
     "text": [
      "Minimum drag = 254.9689372722794 N\n",
      "Aspect ratio = 12.697248082841263\n",
      "Wing area = 12.0750707784587 m^2\n",
      "Airspeed = 38.55433642435957 m/s\n",
      "Weight = 7188.531135727295 N\n",
      "C_L = 0.6512217423486227\n"
     ]
    }
   ],
   "source": [
    "print(f\"Minimum drag = {sol.value(drag)} N\")\n",
    "print(f\"Aspect ratio = {sol.value(aspect_ratio)}\")\n",
    "print(f\"Wing area = {sol.value(wing_area)} m^2\")\n",
    "print(f\"Airspeed = {sol.value(airspeed)} m/s\")\n",
    "print(f\"Weight = {sol.value(weight)} N\")\n",
    "print(f\"C_L = {sol.value(CL)}\")"
   ],
   "metadata": {
    "collapsed": false,
    "pycharm": {
     "name": "#%%\n"
    }
   }
  },
  {
   "cell_type": "markdown",
   "source": [
    "We also see that we get a more reasonable L/D (albeit still high, as we are still neglecting many considerations, and the Schlichting turbulent flat plate model underestimates viscous losses here):"
   ],
   "metadata": {
    "collapsed": false
   }
  },
  {
   "cell_type": "code",
   "execution_count": 102,
   "outputs": [
    {
     "name": "stdout",
     "output_type": "stream",
     "text": [
      "L/D = 28.193752590561072\n"
     ]
    }
   ],
   "source": [
    "print(f\"L/D = {sol.value(lift_cruise/drag)}\")"
   ],
   "metadata": {
    "collapsed": false,
    "pycharm": {
     "name": "#%%\n"
    }
   }
  },
  {
   "cell_type": "markdown",
   "source": [
    "This illustrates just how important accurate modeling is when doing engineering design optimization - just like when\n",
    "coding, an optimizer solves the problem that you actually give it, which is not necessarily the problem that you may\n",
    "mean to solve."
   ],
   "metadata": {
    "collapsed": false
   }
  }
 ],
 "metadata": {
  "kernelspec": {
   "display_name": "Python 3",
   "language": "python",
   "name": "python3"
  },
  "language_info": {
   "codemirror_mode": {
    "name": "ipython",
    "version": 2
   },
   "file_extension": ".py",
   "mimetype": "text/x-python",
   "name": "python",
   "nbconvert_exporter": "python",
   "pygments_lexer": "ipython2",
   "version": "2.7.6"
  }
 },
 "nbformat": 4,
 "nbformat_minor": 0
}