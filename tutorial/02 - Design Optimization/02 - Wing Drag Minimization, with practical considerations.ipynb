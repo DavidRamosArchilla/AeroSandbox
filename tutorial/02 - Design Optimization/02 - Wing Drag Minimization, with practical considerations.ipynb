{
 "cells": [
  {
   "cell_type": "markdown",
   "source": [
    "# Wing Drag Minimization, with practical considerations\n",
    "\n",
    "In our last example, we had a cautionary tale about using bad models and assumptions, and how you can easily find\n",
    "yourself with nonsensical solutions if you throw together models without thinking about how they can be exploited.\n",
    "\n",
    "Let's try doing another wing drag minimization problem, except this time let's model some important coupled effects,\n",
    "such as:\n",
    "\n",
    "* the mass of the wing, as well as how that scales with wing size and shape\n",
    "\n",
    "* fuselage drag\n",
    "\n",
    "* takeoff lift constraints\n",
    "\n",
    "Problem is taken from Section 3 of \"Geometric Programming for Aircraft Design Optimization\" by W. Hoburg and P.\n",
    "Abbeel. http://web.mit.edu/~whoburg/www/papers/hoburgabbeel2014.pdf\n",
    "\n",
    "GPKit implementation (with different coefficients) available at: https://gpkit.readthedocs.io/en/latest/examples.html#simple-wing"
   ],
   "metadata": {
    "collapsed": false
   }
  },
  {
   "cell_type": "code",
   "execution_count": 9,
   "outputs": [
    {
     "name": "stdout",
     "output_type": "stream",
     "text": [
      "This is Ipopt version 3.12.3, running with linear solver mumps.\n",
      "NOTE: Other linear solvers might be more efficient (see Ipopt documentation).\n",
      "\n",
      "Number of nonzeros in equality constraint Jacobian...:        3\n",
      "Number of nonzeros in inequality constraint Jacobian.:        6\n",
      "Number of nonzeros in Lagrangian Hessian.............:       13\n",
      "\n",
      "Total number of variables............................:        5\n",
      "                     variables with only lower bounds:        0\n",
      "                variables with lower and upper bounds:        0\n",
      "                     variables with only upper bounds:        0\n",
      "Total number of equality constraints.................:        1\n",
      "Total number of inequality constraints...............:        2\n",
      "        inequality constraints with only lower bounds:        0\n",
      "   inequality constraints with lower and upper bounds:        0\n",
      "        inequality constraints with only upper bounds:        2\n",
      "\n",
      "iter    objective    inf_pr   inf_du lg(mu)  ||d||  lg(rg) alpha_du alpha_pr  ls\n",
      "   0 4.8084957e+004 9.73e+003 2.92e+001   0.0 0.00e+000    -  0.00e+000 0.00e+000   0\n",
      "Warning: Cutting back alpha due to evaluation error\n",
      "   1 1.8090164e+004 8.53e+003 4.61e+001  -4.2 7.68e+001  -2.0 3.89e-001 1.25e-001f  4\n",
      "   2 2.8832796e+004 4.52e+002 1.83e+001  -0.6 2.31e+001  -1.6 9.88e-001 1.00e+000h  1\n",
      "   3 1.5065749e+004 1.69e+003 2.36e+001  -0.9 1.51e+002  -2.1 1.00e+000 2.36e-001f  1\n",
      "Warning: SOC step rejected due to evaluation error\n",
      "   4 2.5220003e+004 1.92e+003 3.03e+001   0.6 1.10e+002  -2.5 9.67e-001 1.25e-001f  4\n",
      "   5 1.4675384e+004 1.84e+003 2.33e+001   0.2 2.50e+002  -2.1 9.51e-001 5.61e-002f  1\n",
      "   6 4.1809584e+003 8.79e+000 5.84e+000  -3.2 4.11e-001   1.0 1.00e+000 1.00e+000f  1\n",
      "   7 1.1563509e+003 3.29e+001 1.45e+000  -1.3 2.29e-001   0.6 1.00e+000 1.00e+000f  1\n",
      "   8 7.6474434e+002 1.18e+003 8.93e-001  -3.1 1.90e-001   0.1 1.00e+000 1.00e+000h  1\n",
      "   9 8.0322557e+002 1.92e+000 6.79e-002  -4.6 8.07e-002  -0.4 1.00e+000 1.00e+000H  1\n",
      "iter    objective    inf_pr   inf_du lg(mu)  ||d||  lg(rg) alpha_du alpha_pr  ls\n",
      "  10 8.0027731e+002 9.14e+000 1.03e-002  -6.5 4.37e-002  -0.9 1.00e+000 1.00e+000h  1\n",
      "  11 8.0013897e+002 1.07e+000 5.48e-003  -6.5 1.23e-001  -1.4 1.00e+000 1.00e+000h  1\n",
      "  12 7.9829355e+002 1.26e-001 5.47e-003  -8.6 3.69e-001  -1.8 1.00e+000 1.00e+000h  1\n",
      "  13 7.9252953e+002 6.47e-001 5.47e-003 -10.5 1.11e+000  -2.3 1.00e+000 1.00e+000h  1\n",
      "  14 7.7507455e+002 5.93e+000 5.48e-003 -11.0 3.33e+000  -2.8 1.00e+000 1.00e+000h  1\n",
      "  15 7.2111205e+002 5.81e+001 5.51e-003 -11.0 1.00e+001  -3.3 1.00e+000 1.00e+000h  1\n",
      "  16 5.3926897e+002 6.89e+002 3.05e-002 -11.0 3.07e+001  -3.7 1.00e+000 1.00e+000h  1\n",
      "  17 9.1542773e+001 5.25e+003 2.48e-001  -9.0 1.03e+002  -4.2 1.00e+000 5.27e-001h  1\n",
      "  18 9.7459890e+001 5.03e+003 3.51e-001  -7.6 1.25e+001  -2.9 1.00e+000 4.32e-002h  1\n",
      "  19 9.7757474e+001 5.03e+003 2.39e-001  -7.2 3.23e+000  -2.5 1.00e+000 1.68e-003h  1\n",
      "iter    objective    inf_pr   inf_du lg(mu)  ||d||  lg(rg) alpha_du alpha_pr  ls\n",
      "  20 9.8967302e+001 4.99e+003 2.38e-001  -6.8 6.43e-001    -  1.00e+000 6.22e-003h  1\n",
      "  21 4.2656618e+002 2.34e+002 7.53e-001 -10.4 6.33e-001    -  1.00e+000 1.00e+000h  1\n",
      "  22 2.8347906e+002 2.44e+001 1.02e-001 -11.0 1.72e-001    -  1.00e+000 1.00e+000h  1\n",
      "  23 2.5631867e+002 2.25e+000 1.52e-003 -11.0 4.63e-002    -  1.00e+000 1.00e+000h  1\n",
      "  24 2.5497262e+002 1.05e-002 1.04e-005 -11.0 3.34e-003    -  1.00e+000 1.00e+000h  1\n",
      "  25 2.5496894e+002 1.11e-007 3.16e-010 -11.0 1.15e-005    -  1.00e+000 1.00e+000h  1\n",
      "\n",
      "Number of Iterations....: 25\n",
      "\n",
      "                                   (scaled)                 (unscaled)\n",
      "Objective...............:  2.6910430942829516e-001   2.5496893731900613e+002\n",
      "Dual infeasibility......:  3.1618530016430668e-010   2.9957688210216255e-007\n",
      "Constraint violation....:  9.2657526615428734e-010   1.1059455573558807e-007\n",
      "Complementarity.........:  1.0000000003028321e-011   9.4747251702469393e-009\n",
      "Overall NLP error.......:  9.2657526615428734e-010   2.9957688210216255e-007\n",
      "\n",
      "\n",
      "Number of objective function evaluations             = 32\n",
      "Number of objective gradient evaluations             = 26\n",
      "Number of equality constraint evaluations            = 34\n",
      "Number of inequality constraint evaluations          = 32\n",
      "Number of equality constraint Jacobian evaluations   = 26\n",
      "Number of inequality constraint Jacobian evaluations = 26\n",
      "Number of Lagrangian Hessian evaluations             = 25\n",
      "Total CPU secs in IPOPT (w/o function evaluations)   =      0.017\n",
      "Total CPU secs in NLP function evaluations           =      0.003\n",
      "\n",
      "EXIT: Optimal Solution Found.\n",
      "      solver  :   t_proc      (avg)   t_wall      (avg)    n_eval\n",
      "       nlp_f  |        0 (       0)        0 (       0)        32\n",
      "       nlp_g  |   1.00ms ( 29.41us) 996.00us ( 29.29us)        34\n",
      "  nlp_grad_f  |        0 (       0)        0 (       0)        27\n",
      "  nlp_hess_l  |        0 (       0)        0 (       0)        25\n",
      "   nlp_jac_g  |   1.00ms ( 37.04us)   1.03ms ( 38.15us)        27\n",
      "       total  |  20.00ms ( 20.00ms)  19.98ms ( 19.98ms)         1\n"
     ]
    },
    {
     "name": "stderr",
     "output_type": "stream",
     "text": [
      "CasADi -  WARNING(\"solver:nlp_g failed: NaN detected for output g, at (row 2, col 0).\") [.../casadi/core/oracle_function.cpp:265]\n",
      "CasADi -  WARNING(\"solver:nlp_g failed: NaN detected for output g, at (row 2, col 0).\") [.../casadi/core/oracle_function.cpp:265]\n"
     ]
    }
   ],
   "source": [
    "import aerosandbox as asb\n",
    "import aerosandbox.numpy as np\n",
    "\n",
    "### Constants\n",
    "form_factor = 1.2  # form factor [-]\n",
    "oswalds_efficiency = 0.96  # Oswald efficiency factor [-]\n",
    "viscosity = 1.78e-5  # viscosity of air [kg/m/s]\n",
    "density = 1.23  # density of air [kg/m^3]\n",
    "airfoil_thickness_fraction = 0.12  # airfoil thickness to chord ratio [-]\n",
    "ultimate_load_factor = 2.5  # ultimate load factor [-]\n",
    "airspeed_takeoff = 22  # takeoff speed [m/s]\n",
    "CL_max = 2.0  # max CL with flaps down [-]\n",
    "wetted_area_ratio = 2.05  # wetted area ratio [-]\n",
    "W_W_coeff1 = 8.71e-5  # Wing Weight Coefficient 1 [1/m]\n",
    "W_W_coeff2 = 45.42  # Wing Weight Coefficient 2 [Pa]\n",
    "drag_area_fuselage = 0.0306  # fuselage drag area [m^2]\n",
    "weight_fuselage = 4940.0  # aircraft weight excluding wing [N]\n",
    "\n",
    "opti = asb.Opti()  # initialize an optimization environment\n",
    "\n",
    "### Variables\n",
    "aspect_ratio = opti.variable(init_guess=10)  # aspect ratio\n",
    "wing_area = opti.variable(init_guess=200)  # total wing area [m^2]\n",
    "airspeed = opti.variable(init_guess=100)  # cruising speed [m/s]\n",
    "weight = opti.variable(init_guess=10000)  # total aircraft weight [N]\n",
    "CL = opti.variable(init_guess=1)  # Lift coefficient of wing [-]\n",
    "\n",
    "### Models\n",
    "# Aerodynamics model\n",
    "CD_fuselage = drag_area_fuselage / wing_area\n",
    "Re = (density / viscosity) * airspeed * (wing_area / aspect_ratio) ** 0.5\n",
    "Cf = 0.074 / Re ** 0.2\n",
    "CD_profile = form_factor * Cf * wetted_area_ratio\n",
    "CD_induced = CL ** 2 / (np.pi * aspect_ratio * oswalds_efficiency)\n",
    "CD = CD_fuselage + CD_profile + CD_induced\n",
    "dynamic_pressure = 0.5 * density * airspeed ** 2\n",
    "drag = dynamic_pressure * wing_area * CD\n",
    "lift_cruise = dynamic_pressure * wing_area * CL\n",
    "lift_takeoff = 0.5 * density * wing_area * CL_max * airspeed_takeoff ** 2\n",
    "\n",
    "# Wing weight model\n",
    "weight_wing_structural = W_W_coeff1 * (\n",
    "        ultimate_load_factor * aspect_ratio ** 1.5 *\n",
    "        (weight_fuselage * weight * wing_area) ** 0.5\n",
    ") / airfoil_thickness_fraction\n",
    "weight_wing_surface = W_W_coeff2 * wing_area\n",
    "weight_wing = weight_wing_surface + weight_wing_structural\n",
    "\n",
    "### Constraints\n",
    "opti.subject_to([\n",
    "    weight <= lift_cruise,\n",
    "    weight <= lift_takeoff,\n",
    "    weight == weight_fuselage + weight_wing\n",
    "])\n",
    "\n",
    "# Objective\n",
    "opti.minimize(drag)\n",
    "\n",
    "sol = opti.solve()"
   ],
   "metadata": {
    "collapsed": false,
    "pycharm": {
     "name": "#%%\n"
    }
   }
  },
  {
   "cell_type": "markdown",
   "source": [
    "Now, we get a much more reasonable solution:"
   ],
   "metadata": {
    "collapsed": false
   }
  },
  {
   "cell_type": "code",
   "execution_count": 10,
   "outputs": [
    {
     "name": "stdout",
     "output_type": "stream",
     "text": [
      "Minimum drag = 254.96893731900613 N\n",
      "Aspect ratio = 12.69724808290145\n",
      "Wing area = 12.075070782375905 m^2\n",
      "Airspeed = 38.55433642313065 m/s\n",
      "Weight = 7188.531136130094\n"
     ]
    }
   ],
   "source": [
    "print(f\"Minimum drag = {sol.value(drag)} N\")\n",
    "print(f\"Aspect ratio = {sol.value(aspect_ratio)}\")\n",
    "print(f\"Wing area = {sol.value(wing_area)} m^2\")\n",
    "print(f\"Airspeed = {sol.value(airspeed)} m/s\")\n",
    "print(f\"Weight = {sol.value(weight)} N\")"
   ],
   "metadata": {
    "collapsed": false,
    "pycharm": {
     "name": "#%%\n"
    }
   }
  },
  {
   "cell_type": "markdown",
   "source": [
    "We also see that we get a more reasonable L/D (albeit still high, as we are still neglecting many considerations, and the Schlichting turbulent flat plate model underestimates viscous losses here):"
   ],
   "metadata": {
    "collapsed": false
   }
  },
  {
   "cell_type": "code",
   "execution_count": 11,
   "outputs": [
    {
     "name": "stdout",
     "output_type": "stream",
     "text": [
      "L/D = 28.193752591889965\n"
     ]
    }
   ],
   "source": [
    "print(f\"L/D = {sol.value(lift_cruise/drag)}\")"
   ],
   "metadata": {
    "collapsed": false,
    "pycharm": {
     "name": "#%%\n"
    }
   }
  },
  {
   "cell_type": "markdown",
   "source": [
    "This illustrates just how important accurate modeling is when doing engineering design optimization - just like when\n",
    "coding, an optimizer solves the problem that you actually give it, which is not necessarily the problem that you may\n",
    "mean to solve."
   ],
   "metadata": {
    "collapsed": false
   }
  }
 ],
 "metadata": {
  "kernelspec": {
   "display_name": "Python 3",
   "language": "python",
   "name": "python3"
  },
  "language_info": {
   "codemirror_mode": {
    "name": "ipython",
    "version": 2
   },
   "file_extension": ".py",
   "mimetype": "text/x-python",
   "name": "python",
   "nbconvert_exporter": "python",
   "pygments_lexer": "ipython2",
   "version": "2.7.6"
  }
 },
 "nbformat": 4,
 "nbformat_minor": 0
}