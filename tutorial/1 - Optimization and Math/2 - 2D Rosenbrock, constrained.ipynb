{
 "cells": [
  {
   "cell_type": "markdown",
   "source": [
    "# 2D Rosenbrock, constrained\n",
    "\n",
    "Let's do another example with the Rosenbrock problem that we just solved.\n",
    "\n",
    "Let's try adding a constraint to the problem that we previously solved. Recall that the unconstrained optimum that we found occured at $x=1$, $y=1$.\n",
    "\n",
    "What if we want to know the minimum function value that is still within the unit circle. Clearly, $(1, 1)$ is not inside the unit circle, so we expect to find a different answer.\n",
    "\n",
    "Let's see what we get:"
   ],
   "metadata": {
    "collapsed": false
   }
  },
  {
   "cell_type": "code",
   "execution_count": 1,
   "outputs": [
    {
     "data": {
      "text/plain": "MX(fabs(opti0_lam_g_1))"
     },
     "execution_count": 1,
     "metadata": {},
     "output_type": "execute_result"
    }
   ],
   "source": [
    "import aerosandbox as asb\n",
    "\n",
    "opti = asb.Opti()\n",
    "\n",
    "# Define optimization variables\n",
    "x = opti.variable(init_guess=1)  # Let's change our initial guess to the value we found before, (1, 1).\n",
    "y = opti.variable(init_guess=1)  # As above, change 0 -> 1\n",
    "\n",
    "# Define objective\n",
    "f = (1 - x) ** 2 + 100 * (y - x ** 2) ** 2\n",
    "opti.minimize(f)\n",
    "\n",
    "# Define constraint\n",
    "r = (x ** 2 + y ** 2) ** 0.5  # r is the distance from the origin\n",
    "opti.subject_to(\n",
    "    r <= 1  # Constrain the distance from the origin to be less than or equal to 1.\n",
    ")\n"
   ],
   "metadata": {
    "collapsed": false,
    "pycharm": {
     "name": "#%%\n"
    }
   }
  },
  {
   "cell_type": "markdown",
   "source": [
    "Side note here: in continuous optimization, there is no practical difference between \"less than\" and \"less than or equal to\". (At least, not when we solve them numerically on a computer - this is not true for analytical solutions, but that's not relevant here.)\n",
    "\n",
    "So, use `<` or `<=`, whatever feels best to you. Let's continue and solve our problem:"
   ],
   "metadata": {
    "collapsed": false,
    "pycharm": {
     "name": "#%% md\n"
    }
   }
  },
  {
   "cell_type": "code",
   "execution_count": 2,
   "outputs": [
    {
     "name": "stdout",
     "output_type": "stream",
     "text": [
      "This is Ipopt version 3.12.3, running with linear solver mumps.\n",
      "NOTE: Other linear solvers might be more efficient (see Ipopt documentation).\n",
      "\n",
      "Number of nonzeros in equality constraint Jacobian...:        0\n",
      "Number of nonzeros in inequality constraint Jacobian.:        2\n",
      "Number of nonzeros in Lagrangian Hessian.............:        3\n",
      "\n",
      "Total number of variables............................:        2\n",
      "                     variables with only lower bounds:        0\n",
      "                variables with lower and upper bounds:        0\n",
      "                     variables with only upper bounds:        0\n",
      "Total number of equality constraints.................:        0\n",
      "Total number of inequality constraints...............:        1\n",
      "        inequality constraints with only lower bounds:        0\n",
      "   inequality constraints with lower and upper bounds:        0\n",
      "        inequality constraints with only upper bounds:        1\n",
      "\n",
      "iter    objective    inf_pr   inf_du lg(mu)  ||d||  lg(rg) alpha_du alpha_pr  ls\n",
      "   0 0.0000000e+000 4.14e-001 5.00e-001   0.0 0.00e+000    -  0.00e+000 0.00e+000   0\n",
      "   1 2.0017188e-001 2.01e-003 1.26e+001  -8.0 3.98e-001    -  1.00e+000 1.00e+000h  1\n",
      "   2 4.5675090e-002 1.50e-004 2.93e-001  -2.9 1.58e-002    -  1.00e+000 1.00e+000f  1\n",
      "   3 4.5681502e-002 0.00e+000 1.29e-004 -10.5 3.14e-004    -  1.00e+000 1.00e+000h  1\n",
      "   4 4.5674808e-002 0.00e+000 7.38e-008 -11.0 2.76e-005    -  1.00e+000 1.00e+000h  1\n",
      "   5 4.5674806e-002 0.00e+000 2.40e-014 -11.0 5.86e-009    -  1.00e+000 1.00e+000h  1\n",
      "\n",
      "Number of Iterations....: 5\n",
      "\n",
      "                                   (scaled)                 (unscaled)\n",
      "Objective...............:  4.5674806299569146e-002   4.5674806299569146e-002\n",
      "Dual infeasibility......:  2.4036328483134639e-014   2.4036328483134639e-014\n",
      "Constraint violation....:  0.0000000000000000e+000   0.0000000000000000e+000\n",
      "Complementarity.........:  1.0000022882535506e-011   1.0000022882535506e-011\n",
      "Overall NLP error.......:  1.0000022882535506e-011   1.0000022882535506e-011\n",
      "\n",
      "\n",
      "Number of objective function evaluations             = 6\n",
      "Number of objective gradient evaluations             = 6\n",
      "Number of equality constraint evaluations            = 0\n",
      "Number of inequality constraint evaluations          = 6\n",
      "Number of equality constraint Jacobian evaluations   = 0\n",
      "Number of inequality constraint Jacobian evaluations = 6\n",
      "Number of Lagrangian Hessian evaluations             = 5\n",
      "Total CPU secs in IPOPT (w/o function evaluations)   =      0.008\n",
      "Total CPU secs in NLP function evaluations           =      0.000\n",
      "\n",
      "EXIT: Optimal Solution Found.\n",
      "      solver  :   t_proc      (avg)   t_wall      (avg)    n_eval\n",
      "       nlp_f  |        0 (       0)        0 (       0)         6\n",
      "       nlp_g  |        0 (       0)        0 (       0)         6\n",
      "  nlp_grad_f  |        0 (       0)        0 (       0)         7\n",
      "  nlp_hess_l  |        0 (       0)        0 (       0)         5\n",
      "   nlp_jac_g  |        0 (       0)        0 (       0)         7\n",
      "       total  |   8.00ms (  8.00ms)   7.46ms (  7.46ms)         1\n",
      "x = 0.7864151598262833\n",
      "y = 0.6176983214426719\n"
     ]
    }
   ],
   "source": [
    "# Optimize\n",
    "sol = opti.solve()\n",
    "\n",
    "# Extract values at the optimum\n",
    "x_opt = sol.value(x)\n",
    "y_opt = sol.value(y)\n",
    "\n",
    "# Print values\n",
    "print(f\"x = {x_opt}\")\n",
    "print(f\"y = {y_opt}\")"
   ],
   "metadata": {
    "collapsed": false,
    "pycharm": {
     "name": "#%%\n"
    }
   }
  },
  {
   "cell_type": "markdown",
   "source": [
    "Now, we've found a new optimum that lies on the unit circle.\n",
    "\n",
    "The point that we've found is $(0.786, 0.618)$. Let's check that it lies on the unit circle."
   ],
   "metadata": {
    "collapsed": false
   }
  },
  {
   "cell_type": "code",
   "execution_count": 3,
   "outputs": [
    {
     "name": "stdout",
     "output_type": "stream",
     "text": [
      "r = 1.0000000099588466\n"
     ]
    }
   ],
   "source": [
    "r_opt = sol.value(r)  # Note that sol.value() can be used to evaluate any object, not just design variables.\n",
    "print(f\"r = {r_opt}\")"
   ],
   "metadata": {
    "collapsed": false,
    "pycharm": {
     "name": "#%%\n"
    }
   }
  },
  {
   "cell_type": "markdown",
   "source": [
    "It does!\n",
    "\n",
    "We could prove optimality here once again via hand calculations should we choose, but for now we'll take the optimizer's word for it. (The hand-calc process is a bit more complicated than before, but not bad. First, we would show that first-order optimality (i.e. $\\nabla \\vec{x} = 0$) can't be satisfied anywhere in the feasible space, which would indicate that our inequality constraint is tight. Then, we would derive the KKT conditions for constrained optimality and then solve for $x$, $y$, and the Lagrange multiplier associated with our constraint.)"
   ],
   "metadata": {
    "collapsed": false
   }
  }
 ],
 "metadata": {
  "kernelspec": {
   "display_name": "Python 3",
   "language": "python",
   "name": "python3"
  },
  "language_info": {
   "codemirror_mode": {
    "name": "ipython",
    "version": 2
   },
   "file_extension": ".py",
   "mimetype": "text/x-python",
   "name": "python",
   "nbconvert_exporter": "python",
   "pygments_lexer": "ipython2",
   "version": "2.7.6"
  }
 },
 "nbformat": 4,
 "nbformat_minor": 0
}