{
 "cells": [
  {
   "cell_type": "markdown",
   "source": [
    "# Tricky Functions and Cautionary Tales\n",
    "\n",
    "Great, so you've now learned how to solve optimization problems with nonlinear objectives and nonlinear constraints\n",
    "by using overloaded expressions. To review:\n",
    "\n",
    "* You can use `+, -, *, /, **,` etc. for typical arithmetic operations.\n",
    "\n",
    "* For more complicated expressions like $\\sin()$, $\\log()$, etc., you can:\n",
    "\n",
    "    1. `import aerosandbox.numpy as np`\n",
    "\n",
    "    2. Proceed to use overloaded NumPy-like expressions: `np.sin(x)`, `np.log(x)`, etc.\n",
    "\n",
    "\n",
    "**But wait!** We can't set you loose on the whole wide world of mathematical optimization just yet! We're actually in a\n",
    "bit of a dangerous place here - we've given you just enough information to potentially get yourself into a real\n",
    "pickle if you're not careful.\n",
    "\n",
    "This is because nonlinear functions can present some real challenges if you're not aware of what you're doing.\n",
    "\n",
    "-----\n",
    "\n",
    "Let's give a very simple example:\n",
    "\n",
    "Suppose we want to find the value of $x$ that minimizes $|x|$. Seems like a simple enough problem.\n",
    "\n",
    "NumPy (and `aerosandbox.numpy`, by extension) provides us with the `np.fabs()` (\"floating absolute value\") function that lets us accomplish this:"
   ],
   "metadata": {
    "collapsed": false
   }
  },
  {
   "cell_type": "code",
   "execution_count": null,
   "outputs": [],
   "source": [
    "import aerosandbox as asb\n",
    "import aerosandbox.numpy as np\n",
    "\n",
    "opti = asb.Opti()\n",
    "\n",
    "x = opti.variable(init_guess=1)\n",
    "\n",
    "opti.minimize(np.fabs(x))"
   ],
   "metadata": {
    "collapsed": false,
    "pycharm": {
     "name": "#%%\n"
    }
   }
  },
  {
   "cell_type": "markdown",
   "source": [
    "Great! This seems easy enough to set up. But let's try to solve it...\n",
    "\n",
    "(Spoiler, this will throw an error, hence we wrap it in a try/except block in order to catch it)"
   ],
   "metadata": {
    "collapsed": false
   }
  },
  {
   "cell_type": "code",
   "execution_count": null,
   "outputs": [],
   "source": [
    "try:\n",
    "    sol = opti.solve() # This is going to fail to solve and raise a RuntimeError\n",
    "except RuntimeError as e:\n",
    "    print(e)"
   ],
   "metadata": {
    "collapsed": false,
    "pycharm": {
     "name": "#%%\n"
    }
   }
  },
  {
   "cell_type": "markdown",
   "source": [
    "Whoa! Hang on, why did this fail to solve? The problem looked so easy - so easy, in fact, that we can identify the solution\n",
    "just by inspection: `x = 0`!\n",
    "\n",
    "So what happened here?\n",
    "\n",
    "Well, let's think about this from the perspective of the optimizer:"
   ],
   "metadata": {
    "collapsed": false
   }
  }
 ],
 "metadata": {
  "kernelspec": {
   "display_name": "Python 3",
   "language": "python",
   "name": "python3"
  },
  "language_info": {
   "codemirror_mode": {
    "name": "ipython",
    "version": 2
   },
   "file_extension": ".py",
   "mimetype": "text/x-python",
   "name": "python",
   "nbconvert_exporter": "python",
   "pygments_lexer": "ipython2",
   "version": "2.7.6"
  }
 },
 "nbformat": 4,
 "nbformat_minor": 0
}