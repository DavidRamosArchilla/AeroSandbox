{
 "cells": [
  {
   "cell_type": "markdown",
   "metadata": {
    "collapsed": true,
    "pycharm": {
     "name": "#%% md\n"
    }
   },
   "source": [
    "# Tricky Functions and Cautionary Tales, Continued\n",
    "\n",
    "In the previous tutorial, we talked about discontinuities (functions that aren't $C_1$-continuous) as a common source of optimization problems.\n",
    "\n",
    "Let's talk about another: NaNs.\n",
    "\n",
    "NaNs are a familiar and terrifying sight to any battle-hardened computationalist."
   ]
  }
 ],
 "metadata": {
  "kernelspec": {
   "display_name": "Python 3",
   "language": "python",
   "name": "python3"
  },
  "language_info": {
   "codemirror_mode": {
    "name": "ipython",
    "version": 2
   },
   "file_extension": ".py",
   "mimetype": "text/x-python",
   "name": "python",
   "nbconvert_exporter": "python",
   "pygments_lexer": "ipython2",
   "version": "2.7.6"
  }
 },
 "nbformat": 4,
 "nbformat_minor": 0
}