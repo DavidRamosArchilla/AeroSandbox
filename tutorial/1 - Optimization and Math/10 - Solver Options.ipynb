{
 "cells": [
  {
   "cell_type": "markdown",
   "metadata": {
    "collapsed": true,
    "pycharm": {
     "name": "#%% md\n"
    }
   },
   "source": [
    "# Solver Options\n",
    "\n",
    "In previous tutorials, we've demonstrated how you can set up an optimization problem using `aerosandbox.Opti()`, and you can solve them by calling `sol = opti.solve()`.\n",
    "\n",
    "There are several flags that you can use with `sol = opti.solve()`, and here we'll discuss a few.\n",
    "\n",
    "## Silent Solving\n",
    "\n",
    "By default, we pipe all IPOPT output to the console so that you have a good idea of how optimization is progressing. However, in some cases (for example, when doing parametric sweeps), you may not want to clutter your console. To make IPOPT quieter, you have a few options.\n",
    "\n",
    "First, let's write a problem we can solve:"
   ]
  },
  {
   "cell_type": "code",
   "execution_count": 5,
   "outputs": [],
   "source": [
    "import aerosandbox as asb\n",
    "import aerosandbox.numpy as np\n",
    "\n",
    "def setup_problem() -> asb.Opti:\n",
    "    opti = asb.Opti()\n",
    "\n",
    "    x = opti.variable(init_guess=1)\n",
    "    y = opti.variable(init_guess=1)\n",
    "\n",
    "    opti.subject_to([\n",
    "        y > x,\n",
    "        y > -x,\n",
    "    ])\n",
    "\n",
    "    opti.minimize(y)\n",
    "\n",
    "    return opti"
   ],
   "metadata": {
    "collapsed": false,
    "pycharm": {
     "name": "#%%\n"
    }
   }
  },
  {
   "cell_type": "markdown",
   "source": [
    "Now, let's show a few solver options. Our normal solve looks like:"
   ],
   "metadata": {
    "collapsed": false
   }
  },
  {
   "cell_type": "code",
   "execution_count": 6,
   "outputs": [
    {
     "name": "stdout",
     "output_type": "stream",
     "text": [
      "This is Ipopt version 3.12.3, running with linear solver mumps.\n",
      "NOTE: Other linear solvers might be more efficient (see Ipopt documentation).\n",
      "\n",
      "Number of nonzeros in equality constraint Jacobian...:        0\n",
      "Number of nonzeros in inequality constraint Jacobian.:        4\n",
      "Number of nonzeros in Lagrangian Hessian.............:        0\n",
      "\n",
      "Total number of variables............................:        2\n",
      "                     variables with only lower bounds:        0\n",
      "                variables with lower and upper bounds:        0\n",
      "                     variables with only upper bounds:        0\n",
      "Total number of equality constraints.................:        0\n",
      "Total number of inequality constraints...............:        2\n",
      "        inequality constraints with only lower bounds:        0\n",
      "   inequality constraints with lower and upper bounds:        0\n",
      "        inequality constraints with only upper bounds:        2\n",
      "\n",
      "iter    objective    inf_pr   inf_du lg(mu)  ||d||  lg(rg) alpha_du alpha_pr  ls\n",
      "   0 1.0000000e+000 0.00e+000 3.33e-001   0.0 0.00e+000    -  0.00e+000 0.00e+000   0\n",
      "   1 5.0250100e-001 0.00e+000 1.00e-011  -6.0 1.00e+000    -  1.00e+000 1.00e+000f  1\n",
      "   2 5.0252476e-003 0.00e+000 2.51e-012  -6.6 1.00e+000    -  1.00e+000 9.90e-001f  1\n",
      "   3 2.5118801e-005 0.00e+000 2.51e-014  -8.6 1.00e-002    -  1.00e+000 9.95e-001f  1\n",
      "   4 -9.3592793e-009 0.00e+000 1.11e-016 -10.9 5.00e-005    -  1.00e+000 1.00e+000f  1\n",
      "\n",
      "Number of Iterations....: 4\n",
      "\n",
      "                                   (scaled)                 (unscaled)\n",
      "Objective...............: -9.3592793269340225e-009  -9.3592793269340225e-009\n",
      "Dual infeasibility......:  1.1102230246251565e-016   1.1102230246251565e-016\n",
      "Constraint violation....:  0.0000000000000000e+000   0.0000000000000000e+000\n",
      "Complementarity.........:  6.2500252496004748e-010   6.2500252496004748e-010\n",
      "Overall NLP error.......:  6.2500252496004748e-010   6.2500252496004748e-010\n",
      "\n",
      "\n",
      "Number of objective function evaluations             = 5\n",
      "Number of objective gradient evaluations             = 5\n",
      "Number of equality constraint evaluations            = 0\n",
      "Number of inequality constraint evaluations          = 5\n",
      "Number of equality constraint Jacobian evaluations   = 0\n",
      "Number of inequality constraint Jacobian evaluations = 5\n",
      "Number of Lagrangian Hessian evaluations             = 4\n",
      "Total CPU secs in IPOPT (w/o function evaluations)   =      0.003\n",
      "Total CPU secs in NLP function evaluations           =      0.000\n",
      "\n",
      "EXIT: Optimal Solution Found.\n",
      "      solver  :   t_proc      (avg)   t_wall      (avg)    n_eval\n",
      "       nlp_f  |        0 (       0)        0 (       0)         5\n",
      "       nlp_g  |        0 (       0)        0 (       0)         5\n",
      "  nlp_grad_f  |        0 (       0)        0 (       0)         6\n",
      "  nlp_hess_l  |        0 (       0)        0 (       0)         4\n",
      "   nlp_jac_g  |        0 (       0)        0 (       0)         6\n",
      "       total  |   4.00ms (  4.00ms)   4.03ms (  4.03ms)         1\n"
     ]
    }
   ],
   "source": [
    "opti = setup_problem()\n",
    "sol = opti.solve()"
   ],
   "metadata": {
    "collapsed": false,
    "pycharm": {
     "name": "#%%\n"
    }
   }
  },
  {
   "cell_type": "markdown",
   "source": [
    "To silence IPOPT, pass in:"
   ],
   "metadata": {
    "collapsed": false
   }
  },
  {
   "cell_type": "code",
   "source": [
    "opti = setup_problem()\n",
    "sol = opti.solve(verbose=False)"
   ],
   "metadata": {
    "collapsed": false,
    "pycharm": {
     "name": "#%%\n"
    }
   },
   "execution_count": 7,
   "outputs": []
  },
  {
   "cell_type": "markdown",
   "source": [
    "Now, our problem has solved with no output.\n",
    "\n",
    "## Maximum Iterations\n",
    "\n",
    "We can also set a maximum number of iterations, after which the optimization will automatically fail. This is useful if you're running sweeps, and you want to give up on a point after a certain amount of computational effort.\n",
    "\n",
    "By default, the maximum number of iterations is set to 3000 - because IPOPT scales *excellently* to high-dimensional and highly-nonconvex problems, you should basically never hit this limit (unless, for example, your problem is exceedingly poorly scaled - see the tutorial on Problem Scaling.)\n",
    "\n",
    "Let's demonstrate what it looks like if we force IPOPT to fail out:"
   ],
   "metadata": {
    "collapsed": false,
    "pycharm": {
     "name": "#%% md\n"
    }
   }
  },
  {
   "cell_type": "code",
   "execution_count": 10,
   "outputs": [
    {
     "name": "stdout",
     "output_type": "stream",
     "text": [
      "This is Ipopt version 3.12.3, running with linear solver mumps.\n",
      "NOTE: Other linear solvers might be more efficient (see Ipopt documentation).\n",
      "\n",
      "Number of nonzeros in equality constraint Jacobian...:        0\n",
      "Number of nonzeros in inequality constraint Jacobian.:        4\n",
      "Number of nonzeros in Lagrangian Hessian.............:        0\n",
      "\n",
      "Total number of variables............................:        2\n",
      "                     variables with only lower bounds:        0\n",
      "                variables with lower and upper bounds:        0\n",
      "                     variables with only upper bounds:        0\n",
      "Total number of equality constraints.................:        0\n",
      "Total number of inequality constraints...............:        2\n",
      "        inequality constraints with only lower bounds:        0\n",
      "   inequality constraints with lower and upper bounds:        0\n",
      "        inequality constraints with only upper bounds:        2\n",
      "\n",
      "iter    objective    inf_pr   inf_du lg(mu)  ||d||  lg(rg) alpha_du alpha_pr  ls\n",
      "   0 1.0000000e+000 0.00e+000 3.33e-001   0.0 0.00e+000    -  0.00e+000 0.00e+000   0\n",
      "   1 5.0250100e-001 0.00e+000 1.00e-011  -6.0 1.00e+000    -  1.00e+000 1.00e+000f  1\n",
      "   2 5.0252476e-003 0.00e+000 2.51e-012  -6.6 1.00e+000    -  1.00e+000 9.90e-001f  1\n",
      "\n",
      "Number of Iterations....: 2\n",
      "\n",
      "                                   (scaled)                 (unscaled)\n",
      "Objective...............:  5.0252475690835130e-003   5.0252475690835130e-003\n",
      "Dual infeasibility......:  2.5125457270291918e-012   2.5125457270291918e-012\n",
      "Constraint violation....:  0.0000000000000000e+000   0.0000000000000000e+000\n",
      "Complementarity.........:  5.0000050499247146e-003   5.0000050499247146e-003\n",
      "Overall NLP error.......:  5.0000050499247146e-003   5.0000050499247146e-003\n",
      "\n",
      "\n",
      "Number of objective function evaluations             = 3\n",
      "Number of objective gradient evaluations             = 3\n",
      "Number of equality constraint evaluations            = 0\n",
      "Number of inequality constraint evaluations          = 3\n",
      "Number of equality constraint Jacobian evaluations   = 0\n",
      "Number of inequality constraint Jacobian evaluations = 3\n",
      "Number of Lagrangian Hessian evaluations             = 2\n",
      "Total CPU secs in IPOPT (w/o function evaluations)   =      0.002\n",
      "Total CPU secs in NLP function evaluations           =      0.000\n",
      "\n",
      "EXIT: Maximum Number of Iterations Exceeded.\n",
      "      solver  :   t_proc      (avg)   t_wall      (avg)    n_eval\n",
      "       nlp_f  |        0 (       0)        0 (       0)         3\n",
      "       nlp_g  |        0 (       0)        0 (       0)         3\n",
      "  nlp_grad_f  |        0 (       0)        0 (       0)         4\n",
      "  nlp_hess_l  |        0 (       0)        0 (       0)         2\n",
      "   nlp_jac_g  |        0 (       0)        0 (       0)         4\n",
      "       total  |   2.00ms (  2.00ms)   1.99ms (  1.99ms)         1\n",
      "Error in Opti::solve [OptiNode] at .../casadi/core/optistack.cpp:159:\n",
      ".../casadi/core/optistack_internal.cpp:999: Assertion \"return_success(accept_limit)\" failed:\n",
      "Solver failed. You may use opti.debug.value to investigate the latest values of variables. return_status is 'Maximum_Iterations_Exceeded'\n"
     ]
    }
   ],
   "source": [
    "opti = setup_problem()\n",
    "try:\n",
    "    sol = opti.solve(max_iter=2)\n",
    "except RuntimeError as e:\n",
    "    print(e)"
   ],
   "metadata": {
    "collapsed": false,
    "pycharm": {
     "name": "#%%\n"
    }
   }
  },
  {
   "cell_type": "markdown",
   "source": [
    "So, it errors out as desired.\n",
    "\n",
    "## Callbacks"
   ],
   "metadata": {
    "collapsed": false
   }
  }
 ],
 "metadata": {
  "kernelspec": {
   "display_name": "Python 3",
   "language": "python",
   "name": "python3"
  },
  "language_info": {
   "codemirror_mode": {
    "name": "ipython",
    "version": 2
   },
   "file_extension": ".py",
   "mimetype": "text/x-python",
   "name": "python",
   "nbconvert_exporter": "python",
   "pygments_lexer": "ipython2",
   "version": "2.7.6"
  }
 },
 "nbformat": 4,
 "nbformat_minor": 0
}