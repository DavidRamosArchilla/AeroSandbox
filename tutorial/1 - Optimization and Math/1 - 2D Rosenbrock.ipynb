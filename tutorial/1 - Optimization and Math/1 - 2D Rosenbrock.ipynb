{
 "cells": [
  {
   "cell_type": "markdown",
   "source": [
    "# 2D Rosenbrock\n",
    "\n",
    "Welcome to the first AeroSandbox tutorial!\n",
    "\n",
    "AeroSandbox is fundamentally a tool for solving optimization problems that are relevant to large, multidisciplinary engineered systems. Because of this, the most important part of AeroSandbox is the `Opti` stack, which allows you formulate and solve an optimization problem in natural mathematical syntax.\n",
    "\n",
    "The `Opti` class inherits directly from the `Opti` class of CasADi, the library AeroSandbox uses for algorithmic differentiation. AeroSandbox's `Opti` class extends this interface with syntax tailored specifically for engineering design. We'll explore more of these advanced features later!\n",
    "\n",
    "For now, let's solve a classic optimization problem used for benchmarking: the 2D Rosenbrock problem.\n",
    "\n",
    "https://en.wikipedia.org/wiki/Rosenbrock_function\n",
    "\n",
    "Mathematically, it is stated as:\n",
    "\n",
    "```\n",
    "With decision variables x and y:\n",
    "Minimize: (a-x)**2 + b*(y-x**2)**2\n",
    "for a = 1, b = 100.\n",
    "```\n",
    "\n",
    "It's a tricky problem, because the minimum lies at the bottom of a shallow, curving valley. Let's go!"
   ],
   "metadata": {
    "collapsed": false,
    "pycharm": {
     "name": "#%% md\n"
    }
   }
  },
  {
   "cell_type": "code",
   "execution_count": 2,
   "outputs": [
    {
     "name": "stdout",
     "output_type": "stream",
     "text": [
      "This is Ipopt version 3.12.3, running with linear solver mumps.\n",
      "NOTE: Other linear solvers might be more efficient (see Ipopt documentation).\n",
      "\n",
      "Number of nonzeros in equality constraint Jacobian...:        0\n",
      "Number of nonzeros in inequality constraint Jacobian.:        0\n",
      "Number of nonzeros in Lagrangian Hessian.............:        3\n",
      "\n",
      "Total number of variables............................:        2\n",
      "                     variables with only lower bounds:        0\n",
      "                variables with lower and upper bounds:        0\n",
      "                     variables with only upper bounds:        0\n",
      "Total number of equality constraints.................:        0\n",
      "Total number of inequality constraints...............:        0\n",
      "        inequality constraints with only lower bounds:        0\n",
      "   inequality constraints with lower and upper bounds:        0\n",
      "        inequality constraints with only upper bounds:        0\n",
      "\n",
      "iter    objective    inf_pr   inf_du lg(mu)  ||d||  lg(rg) alpha_du alpha_pr  ls\n",
      "   0 1.0000000e+000 0.00e+000 2.00e+000   0.0 0.00e+000    -  0.00e+000 0.00e+000   0\n",
      "   1 9.5312500e-001 0.00e+000 1.25e+001 -11.0 1.00e+000    -  1.00e+000 2.50e-001f  3\n",
      "   2 4.8320569e-001 0.00e+000 1.01e+000 -11.0 9.03e-002    -  1.00e+000 1.00e+000f  1\n",
      "   3 4.5708829e-001 0.00e+000 9.53e+000 -11.0 4.29e-001    -  1.00e+000 5.00e-001f  2\n",
      "   4 1.8894205e-001 0.00e+000 4.15e-001 -11.0 9.51e-002    -  1.00e+000 1.00e+000f  1\n",
      "   5 1.3918726e-001 0.00e+000 6.51e+000 -11.0 3.49e-001    -  1.00e+000 5.00e-001f  2\n",
      "   6 5.4940990e-002 0.00e+000 4.51e-001 -11.0 9.29e-002    -  1.00e+000 1.00e+000f  1\n",
      "   7 2.9144630e-002 0.00e+000 2.27e+000 -11.0 2.49e-001    -  1.00e+000 5.00e-001f  2\n",
      "   8 9.8586451e-003 0.00e+000 1.15e+000 -11.0 1.10e-001    -  1.00e+000 1.00e+000f  1\n",
      "   9 2.3237475e-003 0.00e+000 1.00e+000 -11.0 1.00e-001    -  1.00e+000 1.00e+000f  1\n",
      "iter    objective    inf_pr   inf_du lg(mu)  ||d||  lg(rg) alpha_du alpha_pr  ls\n",
      "  10 2.3797236e-004 0.00e+000 2.19e-001 -11.0 5.09e-002    -  1.00e+000 1.00e+000f  1\n",
      "  11 4.9267371e-006 0.00e+000 5.95e-002 -11.0 2.53e-002    -  1.00e+000 1.00e+000f  1\n",
      "  12 2.8189505e-009 0.00e+000 8.31e-004 -11.0 3.20e-003    -  1.00e+000 1.00e+000f  1\n",
      "  13 1.0095040e-015 0.00e+000 8.68e-007 -11.0 9.78e-005    -  1.00e+000 1.00e+000f  1\n",
      "  14 1.3288608e-028 0.00e+000 2.02e-013 -11.0 4.65e-008    -  1.00e+000 1.00e+000f  1\n",
      "\n",
      "Number of Iterations....: 14\n",
      "\n",
      "                                   (scaled)                 (unscaled)\n",
      "Objective...............:  1.3288608467480825e-028   1.3288608467480825e-028\n",
      "Dual infeasibility......:  2.0183854587685121e-013   2.0183854587685121e-013\n",
      "Constraint violation....:  0.0000000000000000e+000   0.0000000000000000e+000\n",
      "Complementarity.........:  0.0000000000000000e+000   0.0000000000000000e+000\n",
      "Overall NLP error.......:  2.0183854587685121e-013   2.0183854587685121e-013\n",
      "\n",
      "\n",
      "Number of objective function evaluations             = 36\n",
      "Number of objective gradient evaluations             = 15\n",
      "Number of equality constraint evaluations            = 0\n",
      "Number of inequality constraint evaluations          = 0\n",
      "Number of equality constraint Jacobian evaluations   = 0\n",
      "Number of inequality constraint Jacobian evaluations = 0\n",
      "Number of Lagrangian Hessian evaluations             = 14\n",
      "Total CPU secs in IPOPT (w/o function evaluations)   =      0.005\n",
      "Total CPU secs in NLP function evaluations           =      0.000\n",
      "\n",
      "EXIT: Optimal Solution Found.\n",
      "      solver  :   t_proc      (avg)   t_wall      (avg)    n_eval\n",
      "       nlp_f  |        0 (       0)        0 (       0)        36\n",
      "  nlp_grad_f  |        0 (       0)        0 (       0)        16\n",
      "  nlp_hess_l  |        0 (       0)        0 (       0)        14\n",
      "       total  |   5.00ms (  5.00ms)   4.99ms (  4.99ms)         1\n",
      "x = 0.9999999999999899\n",
      "y = 0.9999999999999792\n"
     ]
    }
   ],
   "source": [
    "import aerosandbox as asb  # This is the standard AeroSandbox import convention\n",
    "\n",
    "opti = asb.Opti()  # Initialize a new optimization environment; convention is to name it `opti`.\n",
    "\n",
    "# Define optimization variables\n",
    "x = opti.variable(init_guess=0)  # You must provide initial guesses.\n",
    "y = opti.variable(init_guess=0)\n",
    "\n",
    "# Define objective\n",
    "f = (1 - x) ** 2 + 100 * (y - x ** 2) ** 2  # You can construct nonlinear functions of variables...\n",
    "opti.minimize(f)  # ...and then optimize them.\n",
    "\n",
    "# Optimize\n",
    "sol = opti.solve()  # This is the conventional syntax to solve the optimization problem.\n",
    "\n",
    "# Extract values at the optimum\n",
    "x_opt = sol.value(x)  # Evaluates x at the point where the solver converged.\n",
    "y_opt = sol.value(y)\n",
    "\n",
    "# Print values\n",
    "print(f\"x = {x_opt}\")\n",
    "print(f\"y = {y_opt}\")"
   ],
   "metadata": {
    "collapsed": false,
    "pycharm": {
     "name": "#%%\n"
    }
   }
  },
  {
   "cell_type": "markdown",
   "source": [
    "The solution is found to be (1, 1), which can be proven to be the optimal value via hand calculations.\n",
    "\n",
    "(To show this, we would calculate the gradient of our objective function by taking partial derivatives with respect\n",
    "to x and y, set both terms of the gradient to zero, and solve for x and y.)\n",
    "\n"
   ],
   "metadata": {
    "collapsed": false,
    "pycharm": {
     "name": "#%% md\n"
    }
   }
  }
 ],
 "metadata": {
  "kernelspec": {
   "display_name": "Python 3",
   "language": "python",
   "name": "python3"
  },
  "language_info": {
   "codemirror_mode": {
    "name": "ipython",
    "version": 2
   },
   "file_extension": ".py",
   "mimetype": "text/x-python",
   "name": "python",
   "nbconvert_exporter": "python",
   "pygments_lexer": "ipython2",
   "version": "2.7.6"
  }
 },
 "nbformat": 4,
 "nbformat_minor": 0
}