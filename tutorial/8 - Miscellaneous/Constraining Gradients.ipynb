{
 "cells": [
  {
   "cell_type": "markdown",
   "source": [
    "# Constraining Gradients\n",
    "\n",
    "In this demonstration, we show how you can expose a bit more of the automatic differentiation engine provided by CasADi.\n",
    "\n",
    "One use case for this might be constraining a gradient of a function; for example:\n",
    "\n",
    "* For an aircraft design problem, you might wish to add a static stability constraint of the form $d(Cm)/d(\\alpha) < -1$ or similar. You could directly compute $d(Cm)/d(\\alpha)$ (more commonly abbreviated $C_{m \\alpha}$) and add a constraint on that.\n",
    "\n",
    "For a simple example of this, we show how you can solve the following optimization problem:\n",
    "\n",
    "* Where $f(x) = x^4$:\n",
    "* Minimize $0$ (in other words, there is no objective - simply find any feasible solution)\n",
    "* Subject to:\n",
    "    * $df/dx = 1$\n",
    "\n",
    "We can analytically compute the solution:\n",
    "\n",
    "$df/dx = 4x^3 = 1 \\implies x = (1/4)^{1/3} \\approx 0.629961$\n",
    "\n",
    "We set up the problem using familiar syntax:"
   ],
   "metadata": {
    "collapsed": false
   }
  },
  {
   "cell_type": "code",
   "execution_count": 11,
   "metadata": {
    "collapsed": true
   },
   "outputs": [],
   "source": [
    "import aerosandbox as asb\n",
    "import aerosandbox.numpy as np\n",
    "\n",
    "opti = asb.Opti()\n",
    "\n",
    "x = opti.variable(init_guess=1)\n",
    "\n",
    "f = x ** 4\n",
    "\n",
    "opti.minimize(0)  # No objective"
   ]
  },
  {
   "cell_type": "markdown",
   "source": [
    "So far, this is all pretty normal. Now, we compute the gradient and constrain it."
   ],
   "metadata": {
    "collapsed": false
   }
  },
  {
   "cell_type": "code",
   "execution_count": 12,
   "outputs": [
    {
     "data": {
      "text/plain": "MX(fabs(opti6_lam_g_1))"
     },
     "execution_count": 12,
     "metadata": {},
     "output_type": "execute_result"
    }
   ],
   "source": [
    "import casadi as cas\n",
    "\n",
    "dfdx = cas.gradient(f, x)\n",
    "\n",
    "opti.subject_to(\n",
    "    dfdx == 1\n",
    ")"
   ],
   "metadata": {
    "collapsed": false,
    "pycharm": {
     "name": "#%%\n"
    }
   }
  },
  {
   "cell_type": "markdown",
   "source": [
    "And now we solve, turning verbosity off just to keep things a bit cleaner."
   ],
   "metadata": {
    "collapsed": false
   }
  },
  {
   "cell_type": "code",
   "execution_count": 13,
   "outputs": [
    {
     "name": "stdout",
     "output_type": "stream",
     "text": [
      "x_optimal = 0.6299605249476974\n"
     ]
    }
   ],
   "source": [
    "sol = opti.solve(verbose=False)\n",
    "\n",
    "print(f\"x_optimal = {sol.value(x)}\")"
   ],
   "metadata": {
    "collapsed": false,
    "pycharm": {
     "name": "#%%\n"
    }
   }
  },
  {
   "cell_type": "markdown",
   "source": [
    "Which we can then compare to our analytical solution:"
   ],
   "metadata": {
    "collapsed": false
   }
  },
  {
   "cell_type": "code",
   "execution_count": 14,
   "outputs": [
    {
     "name": "stdout",
     "output_type": "stream",
     "text": [
      "0.6299605249474366\n"
     ]
    }
   ],
   "source": [
    "print(\n",
    "    (1 / 4) ** (1 / 3)\n",
    ")"
   ],
   "metadata": {
    "collapsed": false,
    "pycharm": {
     "name": "#%%\n"
    }
   }
  },
  {
   "cell_type": "markdown",
   "source": [
    "So, it worked!"
   ],
   "metadata": {
    "collapsed": false
   }
  }
 ],
 "metadata": {
  "kernelspec": {
   "display_name": "Python 3",
   "language": "python",
   "name": "python3"
  },
  "language_info": {
   "codemirror_mode": {
    "name": "ipython",
    "version": 2
   },
   "file_extension": ".py",
   "mimetype": "text/x-python",
   "name": "python",
   "nbconvert_exporter": "python",
   "pygments_lexer": "ipython2",
   "version": "2.7.6"
  }
 },
 "nbformat": 4,
 "nbformat_minor": 0
}