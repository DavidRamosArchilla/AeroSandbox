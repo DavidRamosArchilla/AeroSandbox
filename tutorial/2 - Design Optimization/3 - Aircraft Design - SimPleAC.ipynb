{
 "cells": [
  {
   "cell_type": "markdown",
   "metadata": {
    "collapsed": true,
    "pycharm": {
     "name": "#%% md\n"
    }
   },
   "source": [
    "# Aircraft Design - SimPleAC and Comparison to Geometric Programming\n",
    "\n",
    "Here, we implement an aircraft design problem called \"SimPleAC\" proposed by Prof. Warren Hoburg and refined in Berk Ozturk's Master's thesis.\n",
    "\n",
    "This design problem was initially formulated as a demonstration of the geometric programming (GP) approach that GPKit uses. Here, we instead solve with the automatic differentiation (AD) optimization approach that AeroSandbox uses, and then we make comparisons between the two.\n",
    "\n",
    "The problem itself is documented in the following locations:\n",
    "\n",
    "* Primary reference is the associated model in [GPLibrary](https://github.com/convexengineering/gplibrary/tree/master/gpkitmodels/SP/SimPleAC)\n",
    "* Berk's thesis is [available here](https://dspace.mit.edu/handle/1721.1/115595?show=full).\n",
    "\n",
    "We begin our modeling by initializing an optimization environment:"
   ]
  },
  {
   "cell_type": "code",
   "execution_count": 53,
   "outputs": [],
   "source": [
    "import aerosandbox as asb\n",
    "import aerosandbox.numpy as np\n",
    "\n",
    "opti = asb.Opti()"
   ],
   "metadata": {
    "collapsed": false,
    "pycharm": {
     "name": "#%%\n"
    }
   }
  },
  {
   "cell_type": "markdown",
   "source": [
    "We continue by defining all of the constants in SimPleAC. For convenience, we define these here all as simple scalars rather than parameters.\n",
    "\n",
    "If we were interested in studying parametric sensitivities with respect to these constants, we could just as easily define these as parameters using `opti.parameter()` instead, and get the associated duals with `opti.dual(opti.parameter())`.\n",
    "\n",
    "Note: we have converted all units into base SI units where applicable. (km -> m, etc.)"
   ],
   "metadata": {
    "collapsed": false
   }
  },
  {
   "cell_type": "code",
   "execution_count": 54,
   "outputs": [],
   "source": [
    "##### Constants\n",
    "\n",
    "### Env. constants\n",
    "g = 9.81  # gravitational acceleration, m/s^2\n",
    "mu = 1.775e-5  # viscosity of air, kg/m/s\n",
    "rho = 1.23  # density of air, kg/m^3\n",
    "rho_f = 817  # density of fuel, kg/m^3\n",
    "\n",
    "### Non-dimensional constants\n",
    "C_Lmax = 1.6  # stall CL\n",
    "e = 0.92  # Oswald's efficiency factor\n",
    "k = 1.17  # form factor\n",
    "N_ult = 3.3  # ultimate load factor\n",
    "S_wetratio = 2.075  # wetted area ratio\n",
    "tau = 0.12  # airfoil thickness to chord ratio\n",
    "W_W_coeff1 = 2e-5  # wing weight coefficient 1\n",
    "W_W_coeff2 = 60  # wing weight coefficient 2\n",
    "\n",
    "### Dimensional constants\n",
    "Range = 1000e3  # aircraft range, m\n",
    "TSFC = 0.6 / 3600  # thrust specific fuel consumption, 1/sec\n",
    "V_min = 25  # takeoff speed, m/s\n",
    "W_0 = 6250  # aircraft weight excluding wing, N\n"
   ],
   "metadata": {
    "collapsed": false,
    "pycharm": {
     "name": "#%%\n"
    }
   }
  },
  {
   "cell_type": "markdown",
   "source": [
    "We then implement the free variables. Here, we do this basically the same way as SimPleAC.\n",
    "\n",
    "As a side note: upon inspection, it's *very clear* that a lot of the quantities listed as \"free variables\" in the SimPleAC source are extraneous and can be explicitly computed with minimal effort. Examples:\n",
    "* Reynolds number `Re` - there is no reason to declare this as a design variable when it can instead be explicitly computed as a function of cruise speed and wing geometry.\n",
    "* Lift to drag ratio `LoD` - this is defined as a variable and then constrained to be equal to `L / D`, and then subsequently never used anywhere else in the problem formulation.\n",
    "* `p_labor`, the labor cost, which is declared and then never used in the formulation.\n",
    "\n",
    "Because of this, we remove a lot of the variable declarations with trivial effort, and **we solve the same engineering problem with much simpler notation**.\n",
    "\n",
    "We give initial guesses based on our intuition for order of magnitude. (Note for later readers: these initial guesses were made based on engineering intuition *before* looking at the optimal solution.)\n",
    "\n",
    "We can even exploit log-convexity of the problem by flagging `log_transform=True` on variables that we intuitively expect to be nicely behaved in log-space. (However, unlike a pure geometric programming approach, we are not required to do this for every variable, and this in no way restricts us to GP-compatibility later on when we write constraints or objectives.)"
   ],
   "metadata": {
    "collapsed": false
   }
  },
  {
   "cell_type": "code",
   "execution_count": 55,
   "outputs": [],
   "source": [
    "### Free variables (same as SimPleAC, with extraneous variables removed)\n",
    "V = opti.variable(init_guess=100, log_transform=True)  # cruise speed, m/s\n",
    "W = opti.variable(init_guess=10000, lower_bound=0)  # total aircraft weight, N\n",
    "C_L = opti.variable(init_guess=0.6, log_transform=True)  # lift coefficient\n",
    "W_f = opti.variable(init_guess=2000, lower_bound=0)  # fuel weight, N\n",
    "\n",
    "### More free variables\n",
    "A = opti.variable(init_guess=15, log_transform=True)  # aspect ratio\n",
    "S = opti.variable(init_guess=30, log_transform=True)  # total wing area, m^2\n",
    "V_f_fuse = opti.variable(init_guess=0.5, lower_bound=0)  # fuel volume in the fuselage, m^3"
   ],
   "metadata": {
    "collapsed": false,
    "pycharm": {
     "name": "#%%\n"
    }
   }
  },
  {
   "cell_type": "markdown",
   "source": [
    "Our rules of thumb when deciding whether to log-transform:\n",
    "* Is this variable pretty much exclusively used in power-law-type relations?\n",
    "* Do we think a singularity would occur if this variable went to exactly zero, or negative?\n",
    "\n",
    "So, we choose to log-transform:\n",
    "* `V`, because we expect bad things to happen with our $C_f$ model if `Re` goes to zero.\n",
    "* `C_L`, because if $C_L$ goes to zero, $L=W$ cannot occur regardless of airspeed (and if $C_L$ goes negative, the lift-to-airspeed proportionality goes negative)\n",
    "* `S`, because if $S$ goes to zero, the same thing as above occurs.\n",
    "* `A`, because if $AR$ goes to zero, we have a span of zero which we expect to cause a singularity.\n",
    "\n",
    "We implement the weight and lift models:"
   ],
   "metadata": {
    "collapsed": false
   }
  },
  {
   "cell_type": "code",
   "execution_count": 56,
   "outputs": [],
   "source": [
    "### Wing weight\n",
    "W_w_surf = W_W_coeff2 * S\n",
    "W_w_strc = W_W_coeff1 / tau * N_ult * A ** 1.5 * np.sqrt(\n",
    "    (W_0 + V_f_fuse * g * rho_f) * W * S\n",
    ")\n",
    "W_w = W_w_surf + W_w_strc\n",
    "\n",
    "### Entire weight\n",
    "opti.subject_to(\n",
    "    W >= W_0 + W_w + W_f\n",
    ")\n",
    "\n",
    "### Lift equals weight constraint\n",
    "opti.subject_to([\n",
    "    W_0 + W_w + 0.5 * W_f <= 0.5 * rho * S * C_L * V ** 2,\n",
    "    W <= 0.5 * rho * S * C_Lmax * V_min ** 2,\n",
    "])\n",
    "\n",
    "### Flight duration\n",
    "T_flight = Range / V"
   ],
   "metadata": {
    "collapsed": false,
    "pycharm": {
     "name": "#%%\n"
    }
   }
  },
  {
   "cell_type": "markdown",
   "source": [
    "We implement the thrust and drag model:"
   ],
   "metadata": {
    "collapsed": false
   }
  },
  {
   "cell_type": "code",
   "execution_count": 57,
   "outputs": [
    {
     "data": {
      "text/plain": "[MX(fabs(opti6_lam_g_7))]"
     },
     "execution_count": 57,
     "metadata": {},
     "output_type": "execute_result"
    }
   ],
   "source": [
    "### Drag\n",
    "Re = (rho / mu) * V * (S / A) ** 0.5\n",
    "C_f = 0.074 / Re ** 0.2\n",
    "\n",
    "CDA0 = V_f_fuse / 10\n",
    "\n",
    "C_D_fuse = CDA0 / S\n",
    "C_D_wpar = k * C_f * S_wetratio\n",
    "C_D_ind = C_L ** 2 / (np.pi * A * e)\n",
    "C_D = C_D_fuse + C_D_wpar + C_D_ind\n",
    "D = 0.5 * rho * S * C_D * V ** 2\n",
    "\n",
    "opti.subject_to([\n",
    "    W_f >= TSFC * T_flight * D,\n",
    "])"
   ],
   "metadata": {
    "collapsed": false,
    "pycharm": {
     "name": "#%%\n"
    }
   }
  },
  {
   "cell_type": "markdown",
   "source": [
    "We implement the fuel volume model:"
   ],
   "metadata": {
    "collapsed": false
   }
  },
  {
   "cell_type": "code",
   "execution_count": 58,
   "outputs": [
    {
     "data": {
      "text/plain": "MX(fabs(opti6_lam_g_8))"
     },
     "execution_count": 58,
     "metadata": {},
     "output_type": "execute_result"
    }
   ],
   "source": [
    "V_f = W_f / g / rho_f\n",
    "V_f_wing = 0.03 * S ** 1.5 / A ** 0.5 * tau  # linear with b and tau, quadratic with chord\n",
    "\n",
    "V_f_avail = V_f_wing + V_f_fuse\n",
    "\n",
    "opti.subject_to(\n",
    "    V_f_avail >= V_f\n",
    ")"
   ],
   "metadata": {
    "collapsed": false,
    "pycharm": {
     "name": "#%%\n"
    }
   }
  },
  {
   "cell_type": "markdown",
   "source": [
    "We implement an objective, and we solve:"
   ],
   "metadata": {
    "collapsed": false
   }
  },
  {
   "cell_type": "code",
   "execution_count": 59,
   "outputs": [
    {
     "name": "stdout",
     "output_type": "stream",
     "text": [
      "This is Ipopt version 3.12.3, running with linear solver mumps.\n",
      "NOTE: Other linear solvers might be more efficient (see Ipopt documentation).\n",
      "\n",
      "Number of nonzeros in equality constraint Jacobian...:        0\n",
      "Number of nonzeros in inequality constraint Jacobian.:       27\n",
      "Number of nonzeros in Lagrangian Hessian.............:       18\n",
      "\n",
      "Total number of variables............................:        7\n",
      "                     variables with only lower bounds:        0\n",
      "                variables with lower and upper bounds:        0\n",
      "                     variables with only upper bounds:        0\n",
      "Total number of equality constraints.................:        0\n",
      "Total number of inequality constraints...............:        8\n",
      "        inequality constraints with only lower bounds:        3\n",
      "   inequality constraints with lower and upper bounds:        0\n",
      "        inequality constraints with only upper bounds:        5\n",
      "\n",
      "iter    objective    inf_pr   inf_du lg(mu)  ||d||  lg(rg) alpha_du alpha_pr  ls\n",
      "   0 2.0000000e+003 3.27e+003 9.92e-001   0.0 0.00e+000    -  0.00e+000 0.00e+000   0\n",
      "   1 2.6281999e+002 3.86e+003 1.46e+001   0.3 8.69e+001    -  9.51e-001 1.00e+000f  1\n",
      "   2 1.1459656e+002 2.17e+003 5.26e+000  -5.3 8.71e+001    -  1.00e+000 6.17e-001f  1\n",
      "   3 7.4049079e+001 1.43e+003 4.62e+000  -1.0 1.19e+002    -  1.00e+000 4.33e-001h  1\n",
      "   4 5.8133868e+002 8.19e+004 7.49e+004   0.6 2.64e+002    -  1.09e-001 7.11e-001f  1\n",
      "   5 4.1114342e+003 5.38e+004 5.00e+004   0.4 4.38e+002  -2.0 1.11e-001 4.03e-001h  1\n",
      "   6 2.3401219e+004 2.93e+004 2.79e+004   0.4 1.93e+003    -  1.38e-001 5.00e-001h  2\n",
      "   7 2.3640896e+004 1.68e+004 1.67e+004   0.4 3.30e+001  -1.6 2.37e-001 4.91e-001h  1\n",
      "   8 2.3633571e+004 1.32e+004 1.33e+004   0.4 1.26e+001   0.7 7.23e-002 2.20e-001h  1\n",
      "   9 2.3604717e+004 3.01e+003 3.81e+003   0.4 2.52e+001   0.2 6.43e-001 1.00e+000f  1\n",
      "iter    objective    inf_pr   inf_du lg(mu)  ||d||  lg(rg) alpha_du alpha_pr  ls\n",
      "  10 2.3570777e+004 1.10e+002 4.25e+002   0.4 4.67e+000  -0.3 1.00e+000 1.00e+000f  1\n",
      "  11 8.2783511e+003 3.35e+003 3.40e+002  -5.4 8.71e+003    -  1.00e+000 8.78e-002f  1\n",
      "  12 8.2783511e+001 5.65e+003 2.23e+002   0.7 1.88e+003    -  1.00e+000 2.18e-001f  1\n",
      "  13 7.7846522e+002 1.96e+003 6.16e+001   0.7 9.45e+001    -  6.28e-001 1.00e+000h  1\n",
      "  14 6.7517324e+002 1.64e+003 5.05e+001  -5.3 1.23e+002    -  5.08e-001 1.83e-001f  1\n",
      "  15 6.9224438e+002 1.21e+003 2.83e+001  -0.2 5.33e+000  -0.8 9.69e-001 3.23e-001h  1\n",
      "  16 1.1337153e+003 5.09e+002 5.02e+001   0.2 3.17e+001  -1.3 1.00e+000 6.97e-001h  1\n",
      "  17 1.6487339e+003 5.79e+002 4.58e+001   1.7 1.43e+003    -  8.19e-002 5.23e-002f  1\n",
      "  18 1.5063140e+003 5.36e+002 4.16e+001   0.5 4.31e+002    -  8.16e-001 8.44e-002h  1\n",
      "  19 1.0231846e+003 6.70e+002 3.63e+001   0.5 7.43e+002    -  1.44e-001 1.63e-001f  1\n",
      "iter    objective    inf_pr   inf_du lg(mu)  ||d||  lg(rg) alpha_du alpha_pr  ls\n",
      "  20 1.1847852e+003 4.85e+002 4.16e+001   0.5 5.41e+001    -  2.07e-001 1.49e-001h  1\n",
      "  21 1.4051257e+003 0.00e+000 9.03e+000   0.5 1.58e+001    -  1.00e+000 1.00e+000f  1\n",
      "  22 1.0209066e+003 6.96e+001 3.33e+000  -1.7 3.66e+001    -  1.00e+000 7.33e-001f  1\n",
      "  23 9.4462566e+002 4.39e-001 1.63e-001  -1.1 3.84e+000    -  1.00e+000 9.92e-001f  1\n",
      "  24 9.3786330e+002 7.02e-003 1.19e-003  -2.8 4.26e-001    -  1.00e+000 1.00e+000h  1\n",
      "  25 9.3775716e+002 0.00e+000 2.92e-007  -4.9 5.62e-003    -  1.00e+000 1.00e+000h  1\n",
      "  26 9.3775596e+002 0.00e+000 2.14e-009 -10.9 6.84e-005    -  1.00e+000 1.00e+000h  1\n",
      "\n",
      "Number of Iterations....: 26\n",
      "\n",
      "                                   (scaled)                 (unscaled)\n",
      "Objective...............:  4.6887797763080584e+001   9.3775595526161169e+002\n",
      "Dual infeasibility......:  2.1437713826344407e-009   4.2875427652688813e-008\n",
      "Constraint violation....:  0.0000000000000000e+000   0.0000000000000000e+000\n",
      "Complementarity.........:  2.7394955858490276e-010   5.4789911716980545e-009\n",
      "Overall NLP error.......:  2.1437713826344407e-009   4.2875427652688813e-008\n",
      "\n",
      "\n",
      "Number of objective function evaluations             = 30\n",
      "Number of objective gradient evaluations             = 27\n",
      "Number of equality constraint evaluations            = 0\n",
      "Number of inequality constraint evaluations          = 30\n",
      "Number of equality constraint Jacobian evaluations   = 0\n",
      "Number of inequality constraint Jacobian evaluations = 27\n",
      "Number of Lagrangian Hessian evaluations             = 26\n",
      "Total CPU secs in IPOPT (w/o function evaluations)   =      0.010\n",
      "Total CPU secs in NLP function evaluations           =      0.002\n",
      "\n",
      "EXIT: Optimal Solution Found.\n",
      "      solver  :   t_proc      (avg)   t_wall      (avg)    n_eval\n",
      "       nlp_f  |        0 (       0)        0 (       0)        30\n",
      "       nlp_g  |   1.00ms ( 33.33us) 995.00us ( 33.17us)        30\n",
      "  nlp_grad_f  |        0 (       0)        0 (       0)        28\n",
      "  nlp_hess_l  |   1.00ms ( 38.46us) 997.00us ( 38.35us)        26\n",
      "   nlp_jac_g  |        0 (       0)        0 (       0)        28\n",
      "       total  |  14.00ms ( 14.00ms)  13.93ms ( 13.93ms)         1\n"
     ]
    }
   ],
   "source": [
    "opti.minimize(W_f)\n",
    "\n",
    "sol = opti.solve(max_iter=100)"
   ],
   "metadata": {
    "collapsed": false,
    "pycharm": {
     "name": "#%%\n"
    }
   }
  },
  {
   "cell_type": "markdown",
   "source": [
    "So, the solution was found in around 10-15 milliseconds.\n",
    "\n",
    "Let's print the value of our variables:"
   ],
   "metadata": {
    "collapsed": false,
    "pycharm": {
     "name": "#%% md\n"
    }
   }
  },
  {
   "cell_type": "code",
   "execution_count": 60,
   "outputs": [
    {
     "name": "stdout",
     "output_type": "stream",
     "text": [
      "V          = 57.106\n",
      "W          = 8704.82\n",
      "C_L        = 0.290128\n",
      "W_f        = 937.756\n",
      "A          = 12.1049\n",
      "S          = 14.1542\n",
      "V_f_fuse   = 0.0619038\n"
     ]
    }
   ],
   "source": [
    "for value in [\n",
    "    \"V\",\n",
    "    \"W\",\n",
    "    \"C_L\",\n",
    "    \"W_f\",\n",
    "    \"A\",\n",
    "    \"S\",\n",
    "    \"V_f_fuse\",\n",
    "]:\n",
    "    print(f\"{value:10} = {sol.value(eval(value)):.6}\")\n"
   ],
   "metadata": {
    "collapsed": false,
    "pycharm": {
     "name": "#%%\n"
    }
   }
  },
  {
   "cell_type": "markdown",
   "source": [
    "And we can print the value of some auxiliary parameters too:"
   ],
   "metadata": {
    "collapsed": false
   }
  },
  {
   "cell_type": "code",
   "execution_count": 61,
   "outputs": [
    {
     "name": "stdout",
     "output_type": "stream",
     "text": [
      "CDA0       = 0.00619038\n",
      "C_D        = 0.0113188\n",
      "C_L        = 0.290128\n",
      "C_f        = 0.00349109\n",
      "D          = 321.309\n",
      "C_L/C_D    = 25.6325\n",
      "Re         = 4.27908e+06\n",
      "T_flight   = 17511.3\n",
      "V_f        = 0.117003\n",
      "V_f_wing   = 0.0550997\n",
      "V_f_avail  = 0.117003\n",
      "W_f        = 937.756\n",
      "W_w        = 1517.06\n",
      "W_w_strc   = 667.811\n",
      "W_w_surf   = 849.25\n"
     ]
    }
   ],
   "source": [
    "for value in [\n",
    "    \"CDA0\",\n",
    "    \"C_D\",\n",
    "    \"C_L\",\n",
    "    \"C_f\",\n",
    "    \"D\",\n",
    "    \"C_L/C_D\",\n",
    "    \"Re\",\n",
    "    \"T_flight\",\n",
    "    \"V_f\",\n",
    "    \"V_f_wing\",\n",
    "    \"V_f_avail\",\n",
    "    \"W_f\",\n",
    "    \"W_w\",\n",
    "    \"W_w_strc\",\n",
    "    \"W_w_surf\"\n",
    "]:\n",
    "    print(f\"{value:10} = {sol.value(eval(value)):.6}\")"
   ],
   "metadata": {
    "collapsed": false,
    "pycharm": {
     "name": "#%%\n"
    }
   }
  },
  {
   "cell_type": "markdown",
   "source": [
    "## GPKit Comparison\n",
    "\n",
    "The optimal values obtained here exactly match the optimum values computed in the original source using GPKit; output below. Source code for the associated GPKit run is in `/tutorial/2 - Design Optimization/Ignore/SimPleAC - GPKit Implementation.py`.\n",
    "\n",
    "```\n",
    "Starting a sequence of GP solves\n",
    " for 4 free variables\n",
    "  in 1 locally-GP constraints\n",
    "  and for 21 free variables\n",
    "       in 22 posynomial inequalities.\n",
    "Solving took 0.117 seconds and 2 GP solves.\n",
    "Optimal Cost\n",
    "------------\n",
    " 937.8\n",
    "Free Variables\n",
    "--------------\n",
    "       (CDA0) : 0.00619    [m**2] fuselage drag area\n",
    "            A : 12.1              aspect ratio\n",
    "          C_D : 0.01132           drag coefficient\n",
    "          C_L : 0.2901            lift coefficient of wing\n",
    "          C_f : 0.003491          skin friction coefficient\n",
    "            D : 321.3      [N]    total drag force\n",
    "          L/D : 25.63             lift-to-drag ratio\n",
    "           Re : 4.279e+06         Reynold's number\n",
    "            S : 14.15      [m**2] total wing area\n",
    "   T_{flight} : 4.864      [hr]   flight time\n",
    "            V : 57.11      [m/s]  cruising speed\n",
    "          V_f : 0.117      [m**3] fuel volume\n",
    "     V_f_fuse : 0.0619     [m**3] fuel volume in the fuselage\n",
    "     V_f_wing : 0.0551     [m**3] fuel volume in the wing\n",
    "V_{f_{avail}} : 0.117      [m**3] fuel volume available\n",
    "            W : 8705       [N]    total aircraft weight\n",
    "          W_f : 937.8      [N]    fuel weight\n",
    "          W_w : 1517       [N]    wing weight\n",
    "     W_w_strc : 667.8      [N]    wing structural weight\n",
    "     W_w_surf : 849.2      [N]    wing skin weight\n",
    "```\n",
    "\n",
    "However, not only is the automatic differentiation (AD) approach more generalizable that the GP approach; in this demo the AD approach is roughly an order of magnitude faster on the same hardware.\n",
    "\n",
    "Granted, this isn't a true head-to-head speed comparison, as we removed extraneous variables here. And, if we were to track parametric sensitivities as well, the speed advantage of AD would also shrink. However, the AD approach is clearly *at the very least* competitive speed-wise with GP while being vastly more generalizable to non-GP, nonconvex problems.\n",
    "\n",
    "At the same time, we do need to concede a drawback of the AD approach over the GP approach:\n",
    "* The AD approach is not guaranteed to converge for all initial guesses; indeed, if one guesses random values that aren't within 1 or 2 orders of magnitude of the optimal values, convergence tends to be difficult. However, on engineering design problems, we can usually easily make good enough guesses based on intuition. As an example, based on SimPleAC:\n",
    "    * If we change the initial guess for cruise airspeed to 1,000 m/s (Mach ~3), it still converges easily to the same optimum in just 31 iterations. Recall that the optimal airspeed is 57 m/s.\n",
    "    * If we change the initial guess for cruise airspeed to 10,000 m/s (Mach ~30), it does not converge.\n",
    "\n",
    "Another stated advantage of the GP approach is that global optimality is guaranteed; however, I argue that this is a misleading claim:\n",
    "* If the true underlying problem is unimodal (i.e. there is only one local optimum, which is the global optimum), then any solution returned by either GPKit or a modern NLP solver (like IPOPT, which AeroSandbox uses), will be globally optimal.\n",
    "    * If the initial guesses or scaling are poor, the NLP solver might fail to find a solution in a case where GPKit would not fail; however, this is a different problem than the NLP solver returning a solution that is locally-but-not-globally optimal.\n",
    "* If the true underlying problem is multimodal, then:\n",
    "    * In the GP approach: the problem is, by definition, not GP-compatible as-is. Therefore, we must force the problem to be GP-compatible by:\n",
    "        * Surrogate modeling, in which case we are solving a different, unimodal approximation of the original problem. Hence, we're not solving the true engineering problem so global optimality guaranatees are meaningless.\n",
    "            * Example: If a problem has a subsonic optimum and a supersonic optimum, and we force it to be GP-compatible by fitting a GP-compatible model to the subsonic branch, we can no longer make global optimality claims of the true underlying problem.\n",
    "        * Signomial programming, in which case we give up global optimality guarantees anyway.\n",
    "    * In the AD approach: we have no global optimality guarantees.\n",
    "\n",
    "Hence, I'd argue that both the GP approach and the AD approach have identically strong claims on whether their solutions are \"globally optimal\", regardless of whether the underlying engineering problem is GP-compatible or not."
   ],
   "metadata": {
    "collapsed": false
   }
  }
 ],
 "metadata": {
  "kernelspec": {
   "display_name": "Python 3",
   "language": "python",
   "name": "python3"
  },
  "language_info": {
   "codemirror_mode": {
    "name": "ipython",
    "version": 2
   },
   "file_extension": ".py",
   "mimetype": "text/x-python",
   "name": "python",
   "nbconvert_exporter": "python",
   "pygments_lexer": "ipython2",
   "version": "2.7.6"
  }
 },
 "nbformat": 4,
 "nbformat_minor": 0
}