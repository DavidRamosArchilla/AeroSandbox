{
 "cells": [
  {
   "cell_type": "markdown",
   "metadata": {
    "collapsed": true,
    "pycharm": {
     "name": "#%% md\n"
    }
   },
   "source": [
    "# Aircraft Design - SimPleAC\n",
    "\n",
    "Here, we implement an aircraft design problem proposed by Prof. Warren Hoburg and refined in Berk Ozturk's Master's thesis. See documentation:\n",
    "\n",
    "* Primary reference is the associated model in [GPLibrary](https://github.com/convexengineering/gplibrary/tree/master/gpkitmodels/SP/SimPleAC)\n",
    "* Berk's thesis is [available here](https://dspace.mit.edu/handle/1721.1/115595?show=full).\n",
    "\n",
    "We begin our modeling by initializing an optimization environment:"
   ]
  },
  {
   "cell_type": "code",
   "execution_count": 309,
   "outputs": [],
   "source": [
    "import aerosandbox as asb\n",
    "import aerosandbox.numpy as np\n",
    "\n",
    "opti = asb.Opti()"
   ],
   "metadata": {
    "collapsed": false,
    "pycharm": {
     "name": "#%%\n"
    }
   }
  },
  {
   "cell_type": "markdown",
   "source": [
    "We continue by defining all of the constants in SimPleAC. For convenience, we define these here all as floats.\n",
    "\n",
    "If we were interested in studying parametric sensitivities with respect to these constants, we could just as easily define these as parameters using `opti.parameter()` instead, and get the associated duals with `opti.dual(opti.parameter())`.\n",
    "\n",
    "Note: we have converted all units into base SI units where applicable. (km -> m, etc.)"
   ],
   "metadata": {
    "collapsed": false
   }
  },
  {
   "cell_type": "code",
   "execution_count": 310,
   "outputs": [],
   "source": [
    "##### Constants\n",
    "\n",
    "### Env. constants\n",
    "g = 9.81  # gravitational acceleration, m/s^2\n",
    "mu = 1.775e-5  # viscosity of air, kg/m/s\n",
    "rho = 1.23  # density of air, kg/m^3\n",
    "rho_f = 817  # density of fuel, kg/m^3\n",
    "\n",
    "### Non-dimensional constants\n",
    "C_Lmax = 1.6  # stall CL\n",
    "e = 0.92  # Oswald's efficiency factor\n",
    "k = 1.17  # form factor\n",
    "N_ult = 3.3  # ultimate load factor\n",
    "S_wetratio = 2.075  # wetted area ratio\n",
    "tau = 0.12  # airfoil thickness to chord ratio\n",
    "W_W_coeff1 = 2e-5  # wing weight coefficient 1\n",
    "W_W_coeff2 = 60  # wing weight coefficient 2\n",
    "\n",
    "### Dimensional constants\n",
    "Range = 1000e3  # aircraft range, m\n",
    "TSFC = 0.6 / 3600  # thrust specific fuel consumption, 1/sec\n",
    "V_min = 25  # takeoff speed, m/s\n",
    "W_0 = 6250  # aircraft weight excluding wing, N\n"
   ],
   "metadata": {
    "collapsed": false,
    "pycharm": {
     "name": "#%%\n"
    }
   }
  },
  {
   "cell_type": "markdown",
   "source": [
    "We then implement the free variables. Here, we do this basically the same way as SimPleAC.\n",
    "\n",
    "As a side note: upon inspection, it's *very clear* that a lot of the quantities listed as \"free variables\" in the SimPleAC source are extraneous and can be explicitly computed with minimal effort. Examples:\n",
    "* Reynolds number `Re` - there is no reason to declare this as a design variable when it can instead be explicitly computed as a function of cruise speed and wing geometry.\n",
    "* Lift to drag ratio `LoD` - this is defined as a variable and then constrained to be equal to `L / D`, and then subsequently never used anywhere else in the problem formulation.\n",
    "* `p_labor`, the labor cost, which is declared and then never used in the formulation.\n",
    "\n",
    "Because of this, we remove a lot of the variable declarations, and solve the same engineering problem with **much** simpler notation.\n",
    "\n",
    "We give initial guesses based on our intuition for order of magnitude. (Note for later readers: these initial guesses were made based on engineering intuition *before* looking at the optimal solution.)"
   ],
   "metadata": {
    "collapsed": false
   }
  },
  {
   "cell_type": "code",
   "execution_count": 311,
   "outputs": [],
   "source": [
    "### Free variables (same as SimPleAC, with extraneous variables removed)\n",
    "# LoD = opti.variable(init_guess=15)  # lift to drag ratio\n",
    "# D = opti.variable(init_guess=10000 / 15, lower_bound=0)  # drag force, N\n",
    "V = opti.variable(init_guess=50, log_transform=True)  # cruise speed, m/s\n",
    "W = opti.variable(init_guess=10000, log_transform=True)  # total aircraft weight, N\n",
    "# Re = opti.variable(init_guess=5e6)  # Reynolds number\n",
    "# CDA0 = opti.variable(init_guess=0.02)  # Fuselage drag area, m^2\n",
    "# C_D = opti.variable(init_guess=0.05)  # drag coefficient\n",
    "C_L = opti.variable(init_guess=0.5)  # lift coefficient\n",
    "# C_f = opti.variable(0.02)  # skin friction coefficient\n",
    "W_f = opti.variable(init_guess=2000, lower_bound=0)  # fuel weight, N\n",
    "# V_f = opti.variable(1)  # fuel volume, m^3\n",
    "# V_f_avail = opti.variable(init_guess=1, lower_bound=0)  # fuel volume available, m^3\n",
    "# T_flight = opti.variable(10 * 3600, lower_bound=0)  # flight time, sec\n",
    "\n",
    "### More free variables\n",
    "A = opti.variable(init_guess=15, lower_bound=0)  # aspect ratio\n",
    "S = opti.variable(init_guess=30, log_transform=True)  # total wing area, m^2\n",
    "# W_w = opti.variable(init_guess=1000, lower_bound=0)  # wing weight, N\n",
    "# W_w_strc = opti.variable(init_guess=1000, lower_bound=0)  # wing structural weight, N\n",
    "# W_w_surf = opti.variable(init_guess=1000, lower_bound=0)  # wing skin weight, N\n",
    "# V_f_wing = opti.variable(init_guess=0.5)  # fuel volume in the wing, m^3\n",
    "V_f_fuse = opti.variable(init_guess=0.0619, lower_bound=0)  # fuel volume in the fuselage, m^3"
   ],
   "metadata": {
    "collapsed": false,
    "pycharm": {
     "name": "#%%\n"
    }
   }
  },
  {
   "cell_type": "markdown",
   "source": [
    "We implement the weight and lift models:"
   ],
   "metadata": {
    "collapsed": false
   }
  },
  {
   "cell_type": "code",
   "execution_count": 312,
   "outputs": [],
   "source": [
    "### Wing weight\n",
    "W_w_surf = W_W_coeff2 * S\n",
    "W_w_strc = W_W_coeff1 / tau * N_ult * A ** 1.5 * np.sqrt(\n",
    "    (W_0 + V_f_fuse * g * rho_f) * W * S\n",
    ")\n",
    "W_w = W_w_surf + W_w_strc\n",
    "\n",
    "### Entire weight\n",
    "opti.subject_to(\n",
    "    W >= W_0 + W_w + W_f\n",
    ")\n",
    "\n",
    "### Lift equals weight constraint\n",
    "opti.subject_to([\n",
    "    W_0 + W_w + 0.5 * W_f <= 0.5 * rho * S * C_L * V ** 2,\n",
    "    W <= 0.5 * rho * S * C_Lmax * V_min ** 2,\n",
    "])\n",
    "\n",
    "### Flight duration\n",
    "T_flight = Range / V"
   ],
   "metadata": {
    "collapsed": false,
    "pycharm": {
     "name": "#%%\n"
    }
   }
  },
  {
   "cell_type": "markdown",
   "source": [
    "We implement the thrust and drag model:"
   ],
   "metadata": {
    "collapsed": false
   }
  },
  {
   "cell_type": "code",
   "execution_count": 313,
   "outputs": [
    {
     "data": {
      "text/plain": "[MX(fabs(opti38_lam_g_7))]"
     },
     "execution_count": 313,
     "metadata": {},
     "output_type": "execute_result"
    }
   ],
   "source": [
    "### Drag\n",
    "Re = (rho / mu) * V * (S / A) ** 0.5\n",
    "C_f = 0.074 / Re ** 0.2\n",
    "\n",
    "CDA0 = V_f_fuse / 10\n",
    "\n",
    "C_D_fuse = CDA0 / S\n",
    "C_D_wpar = k * C_f * S_wetratio\n",
    "C_D_ind = C_L ** 2 / (np.pi * A * e)\n",
    "C_D = C_D_fuse + C_D_wpar + C_D_ind\n",
    "D = 0.5 * rho * S * C_D * V ** 2\n",
    "\n",
    "opti.subject_to([\n",
    "    W_f >= TSFC * T_flight * D,\n",
    "])"
   ],
   "metadata": {
    "collapsed": false,
    "pycharm": {
     "name": "#%%\n"
    }
   }
  },
  {
   "cell_type": "markdown",
   "source": [
    "We implement the fuel volume model:"
   ],
   "metadata": {
    "collapsed": false
   }
  },
  {
   "cell_type": "code",
   "execution_count": 314,
   "outputs": [
    {
     "data": {
      "text/plain": "MX(fabs(opti38_lam_g_8))"
     },
     "execution_count": 314,
     "metadata": {},
     "output_type": "execute_result"
    }
   ],
   "source": [
    "V_f = W_f / g / rho_f\n",
    "V_f_wing = 0.03 * S ** 1.5 / A ** 0.5 * tau  # linear with b and tau, quadratic with chord\n",
    "\n",
    "V_f_avail = V_f_wing + V_f_fuse\n",
    "\n",
    "opti.subject_to(\n",
    "    V_f_avail >= V_f\n",
    ")"
   ],
   "metadata": {
    "collapsed": false,
    "pycharm": {
     "name": "#%%\n"
    }
   }
  },
  {
   "cell_type": "markdown",
   "source": [
    "We implement an objective, and we solve:"
   ],
   "metadata": {
    "collapsed": false
   }
  },
  {
   "cell_type": "code",
   "execution_count": 315,
   "outputs": [
    {
     "name": "stdout",
     "output_type": "stream",
     "text": [
      "This is Ipopt version 3.12.3, running with linear solver mumps.\n",
      "NOTE: Other linear solvers might be more efficient (see Ipopt documentation).\n",
      "\n",
      "Number of nonzeros in equality constraint Jacobian...:        0\n",
      "Number of nonzeros in inequality constraint Jacobian.:       27\n",
      "Number of nonzeros in Lagrangian Hessian.............:       18\n",
      "\n",
      "Total number of variables............................:        7\n",
      "                     variables with only lower bounds:        0\n",
      "                variables with lower and upper bounds:        0\n",
      "                     variables with only upper bounds:        0\n",
      "Total number of equality constraints.................:        0\n",
      "Total number of inequality constraints...............:        8\n",
      "        inequality constraints with only lower bounds:        3\n",
      "   inequality constraints with lower and upper bounds:        0\n",
      "        inequality constraints with only upper bounds:        5\n",
      "\n",
      "iter    objective    inf_pr   inf_du lg(mu)  ||d||  lg(rg) alpha_du alpha_pr  ls\n",
      "   0 2.0000000e+003 1.49e+003 9.92e-001   0.0 0.00e+000    -  0.00e+000 0.00e+000   0\n",
      "   1 1.5022145e+003 1.57e+005 5.62e+002   0.2 1.64e+003    -  1.00e+000 1.00e+000f  1\n",
      "   2 1.5788830e+003 4.23e+004 1.09e+003   0.9 1.19e+001   0.0 9.16e-001 1.00e+000f  1\n",
      "   3 1.8415200e+003 8.01e+002 8.12e+002   1.0 2.80e+001  -0.5 9.92e-001 1.00e+000h  1\n",
      "   4 1.8895596e+003 3.78e+002 4.26e+002   0.4 8.42e+000  -0.1 1.00e+000 5.44e-001h  1\n",
      "   5 1.9930783e+003 2.21e+001 9.71e+001  -0.7 1.10e+001  -0.5 1.00e+000 1.00e+000h  1\n",
      "   6 1.9693794e+003 0.00e+000 8.14e+000  -2.1 4.02e+000  -1.0 1.00e+000 1.00e+000h  1\n",
      "   7 1.8110212e+003 3.78e+000 3.24e+000  -3.3 1.10e+001  -1.5 1.00e+000 1.00e+000f  1\n",
      "   8 1.5198744e+003 2.38e+001 3.81e+000  -3.8 3.84e+001  -2.0 1.00e+000 5.94e-001f  1\n",
      "   9 1.4730946e+003 1.56e+002 5.47e+000  -0.8 7.85e+000  -2.4 1.00e+000 1.00e+000f  1\n",
      "iter    objective    inf_pr   inf_du lg(mu)  ||d||  lg(rg) alpha_du alpha_pr  ls\n",
      "  10 1.4775864e+003 2.08e+000 1.24e-001  -1.4 1.10e+001  -2.9 1.00e+000 9.83e-001h  1\n",
      "  11 1.4683665e+003 2.11e-001 5.39e-001  -3.0 3.23e+001  -3.4 8.83e-001 1.00e+000f  1\n",
      "  12 1.4413543e+003 1.44e+000 1.33e-002  -3.2 9.81e+001  -3.9 1.00e+000 1.00e+000f  1\n",
      "  13 1.3562978e+003 9.17e+000 5.00e-002  -3.5 3.05e+002  -4.3 9.95e-001 1.00e+000f  1\n",
      "  14 1.0967684e+003 8.24e+001 8.16e-001  -9.5 1.05e+003  -4.8 4.50e-001 8.55e-001f  1\n",
      "  15 1.0938557e+003 8.23e+001 1.66e+001  -2.2 7.24e+003  -5.3 6.65e-001 1.24e-003h  1\n",
      "  16 1.0220271e+003 7.65e+001 6.98e+000  -2.4 1.54e+004    -  8.87e-001 7.35e-002f  1\n",
      "  17 8.1571023e+002 1.35e+003 2.25e+001  -1.5 3.25e+003    -  1.00e+000 1.00e+000f  1\n",
      "  18 9.3543436e+002 2.50e+001 7.48e+000  -2.4 1.27e+003    -  1.00e+000 1.00e+000h  1\n",
      "  19 9.3051109e+002 8.02e+001 2.08e+000  -3.5 1.97e+002    -  1.00e+000 1.00e+000h  1\n",
      "iter    objective    inf_pr   inf_du lg(mu)  ||d||  lg(rg) alpha_du alpha_pr  ls\n",
      "  20 9.3676281e+002 4.44e+000 2.31e-001  -4.7 1.43e+002    -  1.00e+000 1.00e+000h  1\n",
      "  21 9.3774674e+002 1.75e-002 1.63e-003  -6.4 1.49e+001    -  1.00e+000 1.00e+000h  1\n",
      "  22 9.3775595e+002 7.91e-007 1.07e-007  -8.5 1.21e-001    -  1.00e+000 1.00e+000h  1\n",
      "  23 9.3775596e+002 0.00e+000 5.68e-014 -11.0 5.19e-006    -  1.00e+000 1.00e+000h  1\n",
      "\n",
      "Number of Iterations....: 23\n",
      "\n",
      "                                   (scaled)                 (unscaled)\n",
      "Objective...............:  4.6887797761955483e+001   9.3775595523910965e+002\n",
      "Dual infeasibility......:  5.6843418860808015e-014   1.1368683772161603e-012\n",
      "Constraint violation....:  0.0000000000000000e+000   0.0000000000000000e+000\n",
      "Complementarity.........:  1.0000001996042054e-011   2.0000003992084107e-010\n",
      "Overall NLP error.......:  1.0000001996042054e-011   2.0000003992084107e-010\n",
      "\n",
      "\n",
      "Number of objective function evaluations             = 24\n",
      "Number of objective gradient evaluations             = 24\n",
      "Number of equality constraint evaluations            = 0\n",
      "Number of inequality constraint evaluations          = 24\n",
      "Number of equality constraint Jacobian evaluations   = 0\n",
      "Number of inequality constraint Jacobian evaluations = 24\n",
      "Number of Lagrangian Hessian evaluations             = 23\n",
      "Total CPU secs in IPOPT (w/o function evaluations)   =      0.008\n",
      "Total CPU secs in NLP function evaluations           =      0.004\n",
      "\n",
      "EXIT: Optimal Solution Found.\n",
      "      solver  :   t_proc      (avg)   t_wall      (avg)    n_eval\n",
      "       nlp_f  |        0 (       0)        0 (       0)        24\n",
      "       nlp_g  |        0 (       0)        0 (       0)        24\n",
      "  nlp_grad_f  |   1.00ms ( 40.00us) 996.00us ( 39.84us)        25\n",
      "  nlp_hess_l  |   1.00ms ( 43.48us) 998.00us ( 43.39us)        23\n",
      "   nlp_jac_g  |   1.00ms ( 40.00us) 997.00us ( 39.88us)        25\n",
      "       total  |  12.00ms ( 12.00ms)  11.97ms ( 11.97ms)         1\n"
     ]
    }
   ],
   "source": [
    "opti.minimize(W_f)\n",
    "\n",
    "sol = opti.solve(max_iter=100)"
   ],
   "metadata": {
    "collapsed": false,
    "pycharm": {
     "name": "#%%\n"
    }
   }
  },
  {
   "cell_type": "markdown",
   "source": [
    "So, the solution was found in around 15 milliseconds.\n",
    "\n",
    "Let's print the value of our variables:"
   ],
   "metadata": {
    "collapsed": false,
    "pycharm": {
     "name": "#%% md\n"
    }
   }
  },
  {
   "cell_type": "code",
   "execution_count": 316,
   "outputs": [
    {
     "name": "stdout",
     "output_type": "stream",
     "text": [
      "V          = 57.106\n",
      "W          = 8704.82\n",
      "C_L        = 0.290128\n",
      "W_f        = 937.756\n",
      "A          = 12.1049\n",
      "S          = 14.1542\n",
      "V_f_fuse   = 0.0619038\n"
     ]
    }
   ],
   "source": [
    "for value in [\n",
    "    \"V\",\n",
    "    \"W\",\n",
    "    \"C_L\",\n",
    "    \"W_f\",\n",
    "    \"A\",\n",
    "    \"S\",\n",
    "    \"V_f_fuse\",\n",
    "]:\n",
    "    print(f\"{value:10} = {opti.debug.value(eval(value)):.6}\")\n"
   ],
   "metadata": {
    "collapsed": false,
    "pycharm": {
     "name": "#%%\n"
    }
   }
  },
  {
   "cell_type": "markdown",
   "source": [
    "And we can print the value of some auxiliary parameters too:"
   ],
   "metadata": {
    "collapsed": false
   }
  },
  {
   "cell_type": "code",
   "execution_count": 317,
   "outputs": [
    {
     "name": "stdout",
     "output_type": "stream",
     "text": [
      "CDA0       = 0.00619038\n",
      "C_D        = 0.0113188\n",
      "C_L        = 0.290128\n",
      "C_f        = 0.00349109\n",
      "D          = 321.309\n",
      "C_L/C_D    = 25.6325\n",
      "Re         = 4.27908e+06\n",
      "T_flight   = 17511.3\n",
      "V_f        = 0.117003\n",
      "V_f_wing   = 0.0550997\n",
      "V_f_avail  = 0.117003\n",
      "W_f        = 937.756\n",
      "W_w        = 1517.06\n",
      "W_w_strc   = 667.811\n",
      "W_w_surf   = 849.25\n"
     ]
    }
   ],
   "source": [
    "for value in [\n",
    "    \"CDA0\",\n",
    "    \"C_D\",\n",
    "    \"C_L\",\n",
    "    \"C_f\",\n",
    "    \"D\",\n",
    "    \"C_L/C_D\",\n",
    "    \"Re\",\n",
    "    \"T_flight\",\n",
    "    \"V_f\",\n",
    "    \"V_f_wing\",\n",
    "    \"V_f_avail\",\n",
    "    \"W_f\",\n",
    "    \"W_w\",\n",
    "    \"W_w_strc\",\n",
    "    \"W_w_surf\"\n",
    "]:\n",
    "    print(f\"{value:10} = {opti.debug.value(eval(value)):.6}\")"
   ],
   "metadata": {
    "collapsed": false,
    "pycharm": {
     "name": "#%%\n"
    }
   }
  },
  {
   "cell_type": "markdown",
   "source": [
    "## GPKit Comparison\n",
    "\n",
    "The optimal values obtained here exactly match the optimum values computed in the original source using GPKit; output below. Source code for the associated GPKit run is in `/tutorial/2 - Design Optimization/Ignore/SimPleAC - GPKit Implementation`.\n",
    "\n",
    "However, not only is the nonlinear, nonconvex approach more generalizable that the GP approach; in this demo it is roughly an order of magnitude faster on the same hardware (~15 ms vs. ~117 ms).\n",
    "\n",
    "(Granted, this isn't a true head-to-head speed comparison, as we removed extraneous variables here. However, the  automatic differentiation approach is *clearly* at the very least competitive speed-wise with geometric programming while being vastly more generalizable to non-GP, nonconvex problems.)\n",
    "\n",
    "```\n",
    "Starting a sequence of GP solves\n",
    " for 4 free variables\n",
    "  in 1 locally-GP constraints\n",
    "  and for 21 free variables\n",
    "       in 22 posynomial inequalities.\n",
    "Solving took 0.117 seconds and 2 GP solves.\n",
    "Optimal Cost\n",
    "------------\n",
    " 937.8\n",
    "Free Variables\n",
    "--------------\n",
    "       (CDA0) : 0.00619    [m**2] fuselage drag area\n",
    "            A : 12.1              aspect ratio\n",
    "          C_D : 0.01132           drag coefficient\n",
    "          C_L : 0.2901            lift coefficient of wing\n",
    "          C_f : 0.003491          skin friction coefficient\n",
    "            D : 321.3      [N]    total drag force\n",
    "          L/D : 25.63             lift-to-drag ratio\n",
    "           Re : 4.279e+06         Reynold's number\n",
    "            S : 14.15      [m**2] total wing area\n",
    "   T_{flight} : 4.864      [hr]   flight time\n",
    "            V : 57.11      [m/s]  cruising speed\n",
    "          V_f : 0.117      [m**3] fuel volume\n",
    "     V_f_fuse : 0.0619     [m**3] fuel volume in the fuselage\n",
    "     V_f_wing : 0.0551     [m**3] fuel volume in the wing\n",
    "V_{f_{avail}} : 0.117      [m**3] fuel volume available\n",
    "            W : 8705       [N]    total aircraft weight\n",
    "          W_f : 937.8      [N]    fuel weight\n",
    "          W_w : 1517       [N]    wing weight\n",
    "     W_w_strc : 667.8      [N]    wing structural weight\n",
    "     W_w_surf : 849.2      [N]    wing skin weight\n",
    "Fixed Variables\n",
    "---------------\n",
    "(\\frac{S}{S_{wet}}) : 2.075                wetted area ratio\n",
    "          C_{L,max} : 1.6                  max CL with flaps down\n",
    "            N_{ult} : 3.3                  ultimate load factor\n",
    "              Range : 1000       [km]      aircraft range\n",
    "               TSFC : 0.6        [1/hr]    thrust specific fuel consumption\n",
    "            V_{min} : 25         [m/s]     takeoff speed\n",
    "                W_0 : 6250       [N]       aircraft weight excluding wing\n",
    "     W_{W_{coeff1}} : 2e-05      [1/m]     wing weight coefficent 1\n",
    "     W_{W_{coeff2}} : 60         [Pa]      wing weight coefficent 2\n",
    "                \\mu : 1.775e-05  [kg/m/s]  viscosity of air\n",
    "               \\rho : 1.23       [kg/m**3] density of air\n",
    "             \\rho_f : 817        [kg/m**3] density of fuel\n",
    "               \\tau : 0.12                 airfoil thickness to chord ratio\n",
    "                  e : 0.92                 Oswald efficiency factor\n",
    "                  g : 9.81       [m/s**2]  gravitational acceleration\n",
    "                  k : 1.17                 form factor\n",
    "          p_{labor} : 1          [1/min]   cost of labor\n",
    "```"
   ],
   "metadata": {
    "collapsed": false
   }
  }
 ],
 "metadata": {
  "kernelspec": {
   "display_name": "Python 3",
   "language": "python",
   "name": "python3"
  },
  "language_info": {
   "codemirror_mode": {
    "name": "ipython",
    "version": 2
   },
   "file_extension": ".py",
   "mimetype": "text/x-python",
   "name": "python",
   "nbconvert_exporter": "python",
   "pygments_lexer": "ipython2",
   "version": "2.7.6"
  }
 },
 "nbformat": 4,
 "nbformat_minor": 0
}