{
 "cells": [
  {
   "cell_type": "markdown",
   "source": [
    "# AeroBuildup Aerodynamics Engine"
   ],
   "metadata": {
    "collapsed": false,
    "pycharm": {
     "name": "#%% md\n"
    }
   }
  },
  {
   "cell_type": "markdown",
   "source": [
    "## Overview\n",
    "\n",
    "In order to support conceptual-stage aircraft design optimization, AeroSandbox includes a rapid, vectorized aerodynamics engine called AeroBuildup. AeroBuildup's methodology essentially uses a workbook-style buildup to compute aerodynamic forces, moments, and (optionally) stability derivatives. **It attempts to model viscous and compressible effects on wings and fuselages across any orientation (360 degrees of $\\alpha, \\beta$) and arbitrary angular rates ($p, q, r$)**.\n",
    "\n",
    "Obviously, it will be most accurate for semi-realistic flight conditions where theory is sound and experimental data is widely available. (In other words, analyzing an airplane at $\\alpha = 90^\\circ, M_\\infty=1.00$, and huge angular rates will get you an answer that's roughly order-of-magnitude correct, but that's about it.)\n",
    "\n",
    "Its formulation is largely inspired by the [USAF Digital DATCOM](https://en.wikipedia.org/wiki/United_States_Air_Force_Stability_and_Control_Digital_DATCOM), which was a \"best-practices\" rapid aeroprediction tool that combined hundreds of theoretical and empirical models across a wide variety of flight regimes. Many aerodynamic submodels are indeed directly shared with Digital DATCOM.\n",
    "\n",
    "Compared to Digital DATCOM, AeroBuildup has several advantages and limitations."
   ],
   "metadata": {
    "collapsed": false,
    "pycharm": {
     "name": "#%% md\n"
    }
   }
  },
  {
   "cell_type": "markdown",
   "source": [
    "## Usage"
   ],
   "metadata": {
    "collapsed": false,
    "pycharm": {
     "name": "#%% md\n"
    }
   }
  }
 ],
 "metadata": {
  "kernelspec": {
   "display_name": "Python 3",
   "language": "python",
   "name": "python3"
  },
  "language_info": {
   "codemirror_mode": {
    "name": "ipython",
    "version": 2
   },
   "file_extension": ".py",
   "mimetype": "text/x-python",
   "name": "python",
   "nbconvert_exporter": "python",
   "pygments_lexer": "ipython2",
   "version": "2.7.6"
  }
 },
 "nbformat": 4,
 "nbformat_minor": 0
}