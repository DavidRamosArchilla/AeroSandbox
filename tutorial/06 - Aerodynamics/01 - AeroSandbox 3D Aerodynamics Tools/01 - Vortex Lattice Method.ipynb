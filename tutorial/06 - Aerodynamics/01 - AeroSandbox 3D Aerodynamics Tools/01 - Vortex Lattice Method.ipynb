{
 "cells": [
  {
   "cell_type": "markdown",
   "source": [
    "# Vortex Lattice Method"
   ],
   "metadata": {
    "collapsed": false,
    "pycharm": {
     "name": "#%% md\n"
    }
   }
  },
  {
   "cell_type": "code",
   "execution_count": 19,
   "outputs": [],
   "source": [
    "import aerosandbox as asb\n",
    "import aerosandbox.numpy as np\n",
    "\n",
    "wing_airfoil = asb.Airfoil(\"sd7037\")\n",
    "tail_airfoil = asb.Airfoil(\"naca0010\")\n",
    "\n",
    "### Define the 3D geometry you want to analyze/optimize.\n",
    "# Here, all distances are in meters and all angles are in degrees.\n",
    "airplane = asb.Airplane(\n",
    "    name=\"Peter's Glider\",\n",
    "    xyz_ref=[0, 0, 0],  # CG location\n",
    "    wings=[\n",
    "        asb.Wing(\n",
    "            name=\"Main Wing\",\n",
    "            symmetric=True,  # Should this wing be mirrored across the XZ plane?\n",
    "            xsecs=[  # The wing's cross (\"X\") sections\n",
    "                asb.WingXSec(  # Root\n",
    "                    xyz_le=[0, 0, 0],  # Coordinates of the XSec's leading edge, relative to the wing's leading edge.\n",
    "                    chord=0.18,\n",
    "                    twist=2,  # degrees\n",
    "                    airfoil=wing_airfoil,  # Airfoils are blended between a given XSec and the next one.\n",
    "                ),\n",
    "                asb.WingXSec(  # Mid\n",
    "                    xyz_le=[0.01, 0.5, 0],\n",
    "                    chord=0.16,\n",
    "                    twist=0,\n",
    "                    airfoil=wing_airfoil,\n",
    "                ),\n",
    "                asb.WingXSec(  # Tip\n",
    "                    xyz_le=[0.08, 1, 0.1],\n",
    "                    chord=0.08,\n",
    "                    twist=-2,\n",
    "                    airfoil=wing_airfoil,\n",
    "                ),\n",
    "            ]\n",
    "        ),\n",
    "        asb.Wing(\n",
    "            name=\"Horizontal Stabilizer\",\n",
    "            symmetric=True,\n",
    "            xsecs=[\n",
    "                asb.WingXSec(  # root\n",
    "                    xyz_le=[0, 0, 0],\n",
    "                    chord=0.1,\n",
    "                    twist=-10,\n",
    "                    airfoil=tail_airfoil,\n",
    "                ),\n",
    "                asb.WingXSec(  # tip\n",
    "                    xyz_le=[0.02, 0.17, 0],\n",
    "                    chord=0.08,\n",
    "                    twist=-10,\n",
    "                    airfoil=tail_airfoil\n",
    "                )\n",
    "            ]\n",
    "        ).translate([0.6, 0, 0.06]),\n",
    "        asb.Wing(\n",
    "            name=\"Vertical Stabilizer\",\n",
    "            symmetric=False,\n",
    "            xsecs=[\n",
    "                asb.WingXSec(\n",
    "                    xyz_le=[0, 0, 0],\n",
    "                    chord=0.1,\n",
    "                    twist=0,\n",
    "                    airfoil=tail_airfoil,\n",
    "                ),\n",
    "                asb.WingXSec(\n",
    "                    xyz_le=[0.04, 0, 0.15],\n",
    "                    chord=0.06,\n",
    "                    twist=0,\n",
    "                    airfoil=tail_airfoil\n",
    "                )\n",
    "            ]\n",
    "        ).translate([0.6, 0, 0.07])\n",
    "    ],\n",
    "    fuselages=[\n",
    "        asb.Fuselage(\n",
    "            name=\"Fuselage\",\n",
    "            xsecs=[\n",
    "                asb.FuselageXSec(\n",
    "                    xyz_c=[0.8 * xi - 0.1, 0, 0.1 * xi - 0.03],\n",
    "                    radius=0.6 * asb.Airfoil(\"dae51\").local_thickness(x_over_c=xi)\n",
    "                )\n",
    "                for xi in np.cosspace(0, 1, 30)\n",
    "            ]\n",
    "        )\n",
    "    ]\n",
    ")"
   ],
   "metadata": {
    "collapsed": false,
    "pycharm": {
     "name": "#%%\n"
    }
   }
  },
  {
   "cell_type": "code",
   "execution_count": 20,
   "outputs": [
    {
     "name": "stderr",
     "output_type": "stream",
     "text": [
      "C:\\GitHub\\AeroSandbox\\aerosandbox\\geometry\\wing.py:264: UserWarning: Warning: Using a placeholder aerodynamics model for this Airfoil!\n",
      "It's highly recommended that you either:\n",
      "\ta) Specify polar functions in the Airfoil constructor, or\n",
      "\tb) Call Airfoil.generate_polars() to auto-generate these polar functions with XFoil.\n",
      "  if not xsec.airfoil.CL_function(0, 1e6, 0, 0) == 0:  # Surface has to have a symmetric airfoil.\n",
      "C:\\GitHub\\AeroSandbox\\aerosandbox\\geometry\\wing.py:266: UserWarning: Warning: Using a placeholder aerodynamics model for this Airfoil!\n",
      "It's highly recommended that you either:\n",
      "\ta) Specify polar functions in the Airfoil constructor, or\n",
      "\tb) Call Airfoil.generate_polars() to auto-generate these polar functions with XFoil.\n",
      "  if not xsec.airfoil.CM_function(0, 1e6, 0, 0) == 0:  # Surface has to have a symmetric airfoil.\n"
     ]
    }
   ],
   "source": [
    "vlm = asb.VortexLatticeMethod(\n",
    "    airplane=airplane,\n",
    "    op_point=asb.OperatingPoint(\n",
    "        velocity=25, # m/s\n",
    "        alpha=5, # degree\n",
    "    )\n",
    ")"
   ],
   "metadata": {
    "collapsed": false,
    "pycharm": {
     "name": "#%%\n"
    }
   }
  },
  {
   "cell_type": "code",
   "execution_count": 25,
   "outputs": [
    {
     "name": "stdout",
     "output_type": "stream",
     "text": [
      "   L : 81.0323328728096\n",
      "   D : 1.4970055789690653\n",
      "   Y : 8.939346333836204e-15\n",
      "   l : 5.032128966303257e-15\n",
      "   m : -2.3067223530347656\n",
      "   n : -8.260538567406457e-15\n",
      "  CL : 0.7239835512990298\n",
      "  CD : 0.013374999545893062\n",
      "  CY : 7.986860893195828e-17\n",
      "  Cl : 2.225930739086846e-17\n",
      "  Cm : -0.136444254715661\n",
      "  Cn : -3.6539975111389763e-17\n",
      " F_g : [-5.57112414e+00  8.93934633e-15  8.08544530e+01]\n",
      " F_w : (-1.4970055789690653, 8.939346333836204e-15, -81.0323328728096)\n",
      " M_g : [-5.73293357e-15 -2.30672235e+00  7.79052579e-15]\n",
      " M_w : (5.032128966303257e-15, -2.3067223530347656, -8.260538567406457e-15)\n"
     ]
    }
   ],
   "source": [
    "aero = vlm.run() # Returns a dictionary\n",
    "for k, v in aero.items():\n",
    "    print(f\"{k.rjust(4)} : {v}\")"
   ],
   "metadata": {
    "collapsed": false,
    "pycharm": {
     "name": "#%%\n"
    }
   }
  },
  {
   "cell_type": "code",
   "execution_count": 27,
   "outputs": [
    {
     "data": {
      "text/plain": "ViewInteractiveWidget(height=768, layout=Layout(height='auto', width='100%'), width=1024)",
      "application/vnd.jupyter.widget-view+json": {
       "version_major": 2,
       "version_minor": 0,
       "model_id": "584b2a5326e24e1fa9e1bace64bf0364"
      }
     },
     "metadata": {},
     "output_type": "display_data"
    },
    {
     "data": {
      "text/plain": "<pyvista.plotting.plotting.Plotter at 0x1fc8024a3a0>"
     },
     "execution_count": 27,
     "metadata": {},
     "output_type": "execute_result"
    }
   ],
   "source": [
    "# NBVAL_SKIP\n",
    "\n",
    "vlm.draw(show_kwargs=dict(jupyter_format=\"static\"))"
   ],
   "metadata": {
    "collapsed": false,
    "pycharm": {
     "name": "#%%\n"
    }
   }
  }
 ],
 "metadata": {
  "kernelspec": {
   "display_name": "Python 3",
   "language": "python",
   "name": "python3"
  },
  "language_info": {
   "codemirror_mode": {
    "name": "ipython",
    "version": 2
   },
   "file_extension": ".py",
   "mimetype": "text/x-python",
   "name": "python",
   "nbconvert_exporter": "python",
   "pygments_lexer": "ipython2",
   "version": "2.7.6"
  }
 },
 "nbformat": 4,
 "nbformat_minor": 0
}