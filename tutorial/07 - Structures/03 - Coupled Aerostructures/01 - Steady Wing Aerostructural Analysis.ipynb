{
 "cells": [
  {
   "cell_type": "markdown",
   "source": [
    "# Steady Wing Aerostructural Analysis"
   ],
   "metadata": {
    "collapsed": false
   }
  },
  {
   "cell_type": "markdown",
   "source": [
    "## Problem Setup\n",
    "\n",
    "Imagine we have a flexible wing. We want to know how the wing will deform under aerodynamic loads. We also want to know how the aerodynamic loads will change due to the wing deformation. This is a coupled problem that needs to simultaneously solve an aerodynamic and structural problem.\n",
    "\n",
    "The aerodynamic problem is solved using a vortex lattice method. The structural problem is solved using an Euler-Bernoulli beam model. The aerodynamic and structural problems are coupled through the aerodynamic loads and structural deflections."
   ],
   "metadata": {
    "collapsed": false
   }
  },
  {
   "cell_type": "markdown",
   "source": [
    "One tricky part of this problem is that the aerodynamic and structural problems need to share information, and hence should either:\n",
    "* Share the same underlying discretization (\"mesh\")\n",
    "* Transfer information cleanly between different discretizations.\n",
    "\n",
    "We will do the former, which generally makes life much easier."
   ],
   "metadata": {
    "collapsed": false
   }
  },
  {
   "cell_type": "markdown",
   "source": [
    "Let's set up our problem. Imagine we have the following wing:"
   ],
   "metadata": {
    "collapsed": false
   }
  },
  {
   "cell_type": "code",
   "execution_count": null,
   "outputs": [],
   "source": [
    "import aerosandbox as asb\n",
    "import aerosandbox.numpy as np\n",
    "\n",
    "\n",
    "def make_wing(\n",
    "        span: float,\n",
    "        ys_over_half_span: np.ndarray,\n",
    "        chords: np.ndarray,\n",
    "        twists: np.ndarray,\n",
    "        sweeps: np.ndarray = None,\n",
    "        heave_displacements: np.ndarray = None,\n",
    "        twist_displacements: np.ndarray = None,\n",
    "        x_ref_over_chord: float = 0.33,\n",
    "        airfoil: asb.Airfoil = asb.Airfoil(\"dae11\"),\n",
    ") -> asb.Wing:\n",
    "    \"\"\"\n",
    "    Generates a wing based on a given set of per-cross-section characteristics.\n",
    "\n",
    "    \n",
    "    \"\"\"\n",
    "    if sweeps is None:\n",
    "        sweeps = np.zeros_like(ys_over_half_span)\n",
    "    if heave_displacements is None:\n",
    "        heave_displacements = np.zeros_like(ys_over_half_span)\n",
    "    if twist_displacements is None:\n",
    "        twist_displacements = np.zeros_like(ys_over_half_span)\n",
    "\n",
    "    xsecs = []\n",
    "\n",
    "    for i in range(len(ys_over_half_span)):\n",
    "        xyz_le = np.array([\n",
    "            0,\n",
    "            ys_over_half_span * (span / 2),\n",
    "            0\n",
    "        ])\n",
    "        xyz_le = np.rotation_matrix_3D(\n",
    "            angle=twists[i] + twist_displacements[i]\n",
    "        ) +\n",
    "\n",
    "    return asb.Wing(\n",
    "        symmetric=True,\n",
    "        xsecs=[\n",
    "            asb.WingXSec(\n",
    "                xyz_le=[\n",
    "                    0,\n",
    "                    ys_over_half_span * (span / 2),\n",
    "\n",
    "                ]\n",
    "            )\n",
    "            for i in range(len(ys_over_half_span))\n",
    "        ]\n",
    "    )"
   ],
   "metadata": {
    "collapsed": false
   }
  }
 ],
 "metadata": {
  "kernelspec": {
   "display_name": "Python 3",
   "language": "python",
   "name": "python3"
  },
  "language_info": {
   "codemirror_mode": {
    "name": "ipython",
    "version": 2
   },
   "file_extension": ".py",
   "mimetype": "text/x-python",
   "name": "python",
   "nbconvert_exporter": "python",
   "pygments_lexer": "ipython2",
   "version": "2.7.6"
  }
 },
 "nbformat": 4,
 "nbformat_minor": 0
}
