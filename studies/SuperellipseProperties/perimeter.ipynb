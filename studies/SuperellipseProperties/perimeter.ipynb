{
 "cells": [
  {
   "cell_type": "code",
   "execution_count": 7,
   "metadata": {
    "collapsed": true
   },
   "outputs": [],
   "source": [
    "import aerosandbox as asb\n",
    "import aerosandbox.numpy as np\n",
    "\n",
    "### Generate data\n",
    "@np.vectorize\n",
    "def get_arc_length(s=2, N=500000):\n",
    "    theta = np.linspace(0, np.pi / 2, N)\n",
    "    st = np.sin(theta)\n",
    "    ct = np.cos(theta)\n",
    "\n",
    "    ct[-1] = 0\n",
    "    st[0] = 0\n",
    "\n",
    "    x = ct ** (2/s)\n",
    "    y = st ** (2/s)\n",
    "\n",
    "    dx = np.diff(x)\n",
    "    dy = np.diff(y)\n",
    "\n",
    "    darc = (dx ** 2 + dy ** 2) ** 0.5\n",
    "\n",
    "    arc_length = np.sum(darc)\n",
    "\n",
    "    return arc_length\n",
    "\n",
    "s = np.concatenate([\n",
    "    np.linspace(1e-6, 3, 200),\n",
    "    np.linspace(3, 50, 100)[1:]\n",
    "])\n",
    "arc_lengths = get_arc_length(s)"
   ]
  },
  {
   "cell_type": "code",
   "execution_count": 8,
   "outputs": [
    {
     "data": {
      "text/plain": "<Figure size 432x288 with 1 Axes>",
      "image/png": "[encoded data removed]"
     },
     "metadata": {
      "needs_background": "light"
     },
     "output_type": "display_data"
    }
   ],
   "source": [
    "import matplotlib.pyplot as plt\n",
    "import aerosandbox.tools.pretty_plots as p\n",
    "\n",
    "fig, ax = plt.subplots()\n",
    "plt.plot(s, arc_lengths)\n",
    "p.show_plot(\"\", \"Shape parameter $s$\", \"Perimeter within 1st Quadrant\")"
   ],
   "metadata": {
    "collapsed": false
   }
  },
  {
   "cell_type": "code",
   "execution_count": 10,
   "outputs": [
    {
     "ename": "ModuleNotFoundError",
     "evalue": "No module named 'pysr'",
     "output_type": "error",
     "traceback": [
      "\u001B[1;31m---------------------------------------------------------------------------\u001B[0m",
      "\u001B[1;31mModuleNotFoundError\u001B[0m                       Traceback (most recent call last)",
      "\u001B[1;32m<ipython-input-10-e9fba64ce719>\u001B[0m in \u001B[0;36m<module>\u001B[1;34m\u001B[0m\n\u001B[1;32m----> 1\u001B[1;33m \u001B[1;32mfrom\u001B[0m \u001B[0mpysr\u001B[0m \u001B[1;32mimport\u001B[0m \u001B[0mPySRRegressor\u001B[0m\u001B[1;33m\u001B[0m\u001B[1;33m\u001B[0m\u001B[0m\n\u001B[0m\u001B[0;32m      2\u001B[0m \u001B[1;33m\u001B[0m\u001B[0m\n\u001B[0;32m      3\u001B[0m model = PySRRegressor(\n\u001B[0;32m      4\u001B[0m     \u001B[0mniterations\u001B[0m\u001B[1;33m=\u001B[0m\u001B[1;36m1000000\u001B[0m\u001B[1;33m,\u001B[0m  \u001B[1;31m# < Increase me for better results\u001B[0m\u001B[1;33m\u001B[0m\u001B[1;33m\u001B[0m\u001B[0m\n\u001B[0;32m      5\u001B[0m     \u001B[0mpopulation_size\u001B[0m\u001B[1;33m=\u001B[0m\u001B[1;36m50\u001B[0m\u001B[1;33m,\u001B[0m\u001B[1;33m\u001B[0m\u001B[1;33m\u001B[0m\u001B[0m\n",
      "\u001B[1;31mModuleNotFoundError\u001B[0m: No module named 'pysr'"
     ]
    }
   ],
   "source": [
    "from pysr import PySRRegressor\n",
    "\n",
    "model = PySRRegressor(\n",
    "    niterations=1000000,  # < Increase me for better results\n",
    "    population_size=50,\n",
    "    ncyclesperiteration=700,\n",
    "    binary_operators=[\n",
    "        \"*\",\n",
    "        \"+\",\n",
    "        \"pow\"\n",
    "    ],\n",
    "    unary_operators=[\n",
    "        # \"cos\",\n",
    "        # \"exp\",\n",
    "        # \"sin\",\n",
    "        # \"tan\",\n",
    "        # \"inv(x) = 1/x\",\n",
    "        # ^ Custom operator (julia syntax)\n",
    "    ],\n",
    "    complexity_of_operators={\n",
    "        \"*\"  : 1,\n",
    "        \"+\"  : 1,\n",
    "        \"pow\": 1,\n",
    "        # \"exp\": 2,\n",
    "        # \"cos\": 3,\n",
    "        # \"sin\": 3,\n",
    "        # \"tan\": 5,\n",
    "    },\n",
    "    # complexity_of_constants=0.5,\n",
    "    complexity_of_variables=2,\n",
    "    constraints={\n",
    "        'pow': (-1, 5),\n",
    "        # 'sin': 5,\n",
    "        # 'cos': 5,\n",
    "        # 'tan': 5,\n",
    "    },\n",
    "    maxsize=30,\n",
    "    # batching=True,\n",
    "    # batch_size=500,\n",
    "    # warm_start=True,\n",
    "    # extra_sympy_mappings={\"inv\": lambda x: 1 / x},\n",
    "    # ^ Define operator for SymPy as well\n",
    "    # loss=\"loss(prediction, target, weight) = weight * abs(prediction - target)\",\n",
    "    # ^ Custom loss function (julia syntax)\n",
    ")\n",
    "\n",
    "model.fit(\n",
    "    s.reshape((-1, 1)), arc_lengths,\n",
    "    # weights=weights,\n",
    "    # variable_names=list(x_data.keys())\n",
    ")"
   ],
   "metadata": {
    "collapsed": false
   }
  }
 ],
 "metadata": {
  "kernelspec": {
   "display_name": "Python 3",
   "language": "python",
   "name": "python3"
  },
  "language_info": {
   "codemirror_mode": {
    "name": "ipython",
    "version": 2
   },
   "file_extension": ".py",
   "mimetype": "text/x-python",
   "name": "python",
   "nbconvert_exporter": "python",
   "pygments_lexer": "ipython2",
   "version": "2.7.6"
  }
 },
 "nbformat": 4,
 "nbformat_minor": 0
}
